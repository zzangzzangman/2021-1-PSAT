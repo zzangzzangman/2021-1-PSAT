{
 "cells": [
  {
   "cell_type": "markdown",
   "metadata": {},
   "source": [
    "### 기본설정"
   ]
  },
  {
   "cell_type": "code",
   "execution_count": 1,
   "metadata": {},
   "outputs": [
    {
     "name": "stdout",
     "output_type": "stream",
     "text": [
      "selenium version : 3.141.0\n"
     ]
    }
   ],
   "source": [
    "#!pip install selenium \n",
    "import selenium\n",
    "print(f\"selenium version : {selenium.__version__}\")"
   ]
  },
  {
   "cell_type": "code",
   "execution_count": 2,
   "metadata": {},
   "outputs": [],
   "source": [
    "from selenium import webdriver\n",
    "import requests\n",
    "import pandas as pd\n",
    "import os\n",
    "import time\n",
    "from selenium.common.exceptions import NoSuchElementException\n",
    "from selenium.common.exceptions import TimeoutException\n",
    "from selenium.webdriver.support.ui import WebDriverWait\n",
    "from selenium.webdriver.support import expected_conditions as EC\n",
    "from selenium.webdriver.common.by import By\n",
    "from selenium.webdriver.common.keys import Keys"
   ]
  },
  {
   "cell_type": "code",
   "execution_count": 82,
   "metadata": {},
   "outputs": [],
   "source": [
    "#경로 설정\n",
    "os.chdir(\"C:/Users/bounc/Desktop/애니 주분\") #각자 컴에 맞게"
   ]
  },
  {
   "cell_type": "code",
   "execution_count": null,
   "metadata": {},
   "outputs": [],
   "source": [
    "'''url = 'https://laftel.net/finder'\n",
    "driver.get(url)\n",
    "\n",
    "#애니 총 개수\n",
    "total_num=driver.find_element_by_xpath('//*[@id=\"root\"]/div[1]/div[2]/div[2]/di v[2]/div[1]/div[1]/span').text.replace(',','')\n",
    "\n",
    "#스크롤 내려서 모든 애니 불러오기\n",
    "last_height = driver.execute_script(\"return document.body.scrollHeight\")        \n",
    "while True:\n",
    "    driver.execute_script(\"window.scrollTo(0, document.body.scrollHeight);\")\n",
    "    time.sleep(0.5)                                                \n",
    "    new_height = driver.execute_script(\"return document.body.scrollHeight\")\n",
    "    if new_height == last_height:                                                \n",
    "        break\n",
    "\n",
    "    last_height = new_height\n",
    "\n",
    "\n",
    "#제목 따오기\n",
    "for n in range(1,int(total_num)+1):\n",
    "    nam = driver.find_element_by_xpath('//*[@id=\"root\"]/div[1]/div[2]/div[2]/div[2]/div[2]/div['+str(n)+']/a')\n",
    "    name.append(nam.text)\n",
    "    \n",
    "#존재하지 않는 페이지 걸러내기\n",
    "try:\n",
    "    element = WebDriverWait(driver,3).until(\n",
    "        EC.presence_of_element_located((By.XPATH,'//*[@id=\"root\"]/div[1]/div[2]/section/div/div[3]/div[1]/h1'))\n",
    "    )\n",
    "except TimeoutException:\n",
    "    print('없는 페이지')\n",
    "    \n",
    "'''\n"
   ]
  },
  {
   "cell_type": "code",
   "execution_count": 258,
   "metadata": {},
   "outputs": [],
   "source": [
    "#드라이버 열기\n",
    "driver_path = \"chromedriver.exe\"\n",
    "chrome_options = webdriver.ChromeOptions()\n",
    "chrome_options.add_argument('--start-maximized') #브라우저 최대화된 상태로 실행\n",
    "driver = webdriver.Chrome(driver_path, options=chrome_options)"
   ]
  },
  {
   "cell_type": "markdown",
   "metadata": {},
   "source": [
    "### 크롤링 🔥🔥🔥🔥🔥🔥"
   ]
  },
  {
   "cell_type": "markdown",
   "metadata": {},
   "source": [
    "1. 크롬 창 최소화 하지말고 띄워놓기\n",
    "2. 뭔가 잘 안 되면 time.sleep() 안의 숫자 늘려보기 \n",
    "3. 가끔 광고창 뜨는데 그냥 닫기 누르면 됨"
   ]
  },
  {
   "cell_type": "code",
   "execution_count": 5,
   "metadata": {},
   "outputs": [],
   "source": [
    "name = pd.read_csv('name.csv')"
   ]
  },
  {
   "cell_type": "code",
   "execution_count": null,
   "metadata": {},
   "outputs": [],
   "source": [
    "#제목\n",
    "    tit = driver.find_element_by_xpath('//*[@id=\"root\"]/div[1]/div[2]/section/div/div[3]/div[1]/h1')\n",
    "    tit_t = tit.text\n",
    "    title.append(tit_t)\n",
    "\n",
    "    #장르\n",
    "    try:\n",
    "        gen = driver.find_element_by_xpath('//*[@id=\"root\"]/div[1]/div[2]/section/div/div[3]/div[2]/div[1]')\n",
    "        genre.append(gen.text)\n",
    "\n",
    "    except NoSuchElementException:\n",
    "        genre.append(0)\n",
    "\n",
    "    #제작정보 ->추가 전처리 필요함 (세 개 다 있는 경우, 하나만 있는 경우 )\n",
    "    try:\n",
    "        mi=driver.find_element_by_xpath('//*[@id=\"root\"]/div[1]/div[2]/div[2]/aside/section[1]/div')\n",
    "        info.append(mi.text)\n",
    "    except NoSuchElementException:\n",
    "        info.append(0)\n",
    "\n",
    "    #태그\n",
    "    try:\n",
    "        tg = driver.find_element_by_xpath('//*[@id=\"root\"]/div[1]/div[2]/div[2]/aside/section[2]')\n",
    "        tag.append(tg.text)\n",
    "    except NoSuchElementException:\n",
    "        tag.append(0)\n",
    "\n",
    "    #수상경력/ 태그2 -> 수상경력있는 애들은 태그가 뒤로 밀림. -> 태그 전처리 할때 필요\n",
    "    try:\n",
    "        tg2 = driver.find_element_by_xpath('//*[@id=\"root\"]/div[1]/div[2]/div[2]/aside/section[3]')\n",
    "        tag2.append(tg2.text)\n",
    "    except NoSuchElementException:\n",
    "        tag2.append(0)\n",
    "\n",
    "    #줄거리\n",
    "    try: #더보기 눌러야할 경우\n",
    "        driver.find_element_by_xpath('//*[@id=\"root\"]/div[1]/div[2]/div[2]/aside/div[2]/section/div/div/div').click()\n",
    "        time.sleep(0.5)\n",
    "        sto = driver.find_element_by_xpath('//*[@id=\"item-portal\"]/div[2]/div/p')\n",
    "        story.append(sto.text)\n",
    "        driver.get(url) #x버튼 클릭 안돼서 일단 대안으로\n",
    "    except NoSuchElementException: #안 눌러도 되는데 있는 경우\n",
    "        try:\n",
    "            sto = driver.find_element_by_xpath('//*[@id=\"root\"]/div[1]/div[2]/div[2]/aside/div[2]/section/div/div')\n",
    "            story.append(sto.text)\n",
    "        except NoSuchElementException: #줄거리 아예 없는 경우\n",
    "            story.append(0)\n",
    "\n",
    "    ######################### 이미지  #########################\n",
    "    driver.get(current)\n",
    "\n",
    "    #에피소드 갯수\n",
    "    try:\n",
    "        epis = driver.find_element_by_xpath('//*[@id=\"root\"]/div[1]/div[2]/div[2]/main/section/div/div[1]/a[1]')\n",
    "        epi = epis.text.split('(')[1].split(')')[0]\n",
    "    except:\n",
    "        pass\n",
    "     \n",
    "\n",
    "    #스크롤 내려서 모든 에피소드 불러오기 \n",
    "    body = driver.find_element_by_xpath('/html/body')\n",
    "    while True:\n",
    "        body.send_keys(Keys.PAGE_DOWN) \n",
    "        time.sleep(0.7)\n",
    "        try:\n",
    "            suc = driver.find_element_by_xpath('//*[@id=\"root\"]/div[1]/div[2]/div[2]/main/section/div/div[2]/ul/li['+str(epi)+']/a/div[1]/img').get_attribute('src')\n",
    "            break\n",
    "        except NoSuchElementException:\n",
    "            pass\n",
    "\n",
    "    #이미지\n",
    "    for i in range(1,int(epi)+1):\n",
    "        try:\n",
    "            img = driver.find_element_by_xpath('//*[@id=\"root\"]/div[1]/div[2]/div[2]/main/section/div/div[2]/ul/li['+str(i)+']/a/div[1]/img').get_attribute('src')\n",
    "            image.append([tit_t,img])\n",
    "        except NoSuchElementException:\n",
    "            print('에피소드',i,'없음')\n"
   ]
  },
  {
   "cell_type": "code",
   "execution_count": 274,
   "metadata": {},
   "outputs": [],
   "source": [
    "#데이터셋\n",
    "title=[]\n",
    "genre =[]\n",
    "story=[]\n",
    "age=[]\n",
    "info=[]\n",
    "tag =[]\n",
    "tag2 =[]\n",
    "image=[]\n",
    "review=[]\n",
    "sex = []\n",
    "rate=[]\n",
    "people=[]"
   ]
  },
  {
   "cell_type": "code",
   "execution_count": null,
   "metadata": {},
   "outputs": [],
   "source": [
    "#시간이 오래 소요되므로 조금씩 끊어서 반복문 안의 숫자 바꿔가면서 반복문 실행\n",
    "cur = 1\n",
    "\n",
    "for nm in name.iloc[1801:2163,0]: \n",
    "    \n",
    "    #제목으로 검색하기\n",
    "    url = 'https://laftel.net/finder'\n",
    "    driver.get(url)    \n",
    "    driver.find_element_by_xpath('//*[@id=\"root\"]/div[1]/div[1]/div/div/div[3]/div/div[2]').click()\n",
    "    driver.find_element_by_xpath('//*[@id=\"root\"]/div[1]/div[1]/div/div/div[3]/div/div[1]/div/input').send_keys(nm, Keys.ENTER)\n",
    "    time.sleep(0.5)\n",
    "    driver.find_element_by_xpath('//*[@id=\"root\"]/div[1]/div[2]/div/div[3]/div[1]/a[1]/picture').click()\n",
    "    time.sleep(0.5)\n",
    "    print('현재 ',cur,end=\" \")\n",
    "    \n",
    "    current = driver.current_url\n",
    "    \n",
    "    tit = driver.find_element_by_xpath('//*[@id=\"root\"]/div[1]/div[2]/section/div/div[3]/div[1]/h1')\n",
    "    tit_t = tit.text\n",
    "\n",
    "\n",
    "    ######################### 리뷰  #########################\n",
    "    driver.find_element_by_xpath('//*[@id=\"root\"]/div[1]/div[2]/div[2]/main/section/div/div[1]/a[2]').send_keys(Keys.ENTER)\n",
    "\n",
    "    #리뷰 성비\n",
    "    man =  driver.find_element_by_xpath('//*[@id=\"root\"]/div[1]/div[2]/div[2]/main/section/div/div[2]/div[1]/div[2]/div[2]/div[2]/div[1]').text.split('%')[0]\n",
    "    sex.append(man)\n",
    "\n",
    "    #평점 수\n",
    "    rn = driver.find_element_by_xpath('//*[@id=\"root\"]/div[1]/div[2]/div[2]/main/section/div/div[2]/div[1]/div[1]').text.split('(')[1].split('명')[0].replace(',','')\n",
    "    people.append(rn)\n",
    "\n",
    "    #평점\n",
    "    rat = driver.find_element_by_xpath('//*[@id=\"root\"]/div[1]/div[2]/section/div/div[3]/div[2]/div[2]').text.split(' ')[1]\n",
    "    rate.append(rat)\n",
    "\n",
    "    #리뷰 수\n",
    "    try:\n",
    "        rev = driver.find_element_by_xpath('//*[@id=\"root\"]/div[1]/div[2]/div[2]/main/section/div/div[1]/a[2]').text.split('(')[1].split(')')[0].replace(',','')\n",
    "    except:\n",
    "        rev = 0\n",
    "\n",
    "    #스크롤 내려서 모든 리뷰 불러오기\n",
    "    last_height = driver.execute_script(\"return document.body.scrollHeight\")        \n",
    "    while True:\n",
    "        driver.execute_script(\"window.scrollTo(0, document.body.scrollHeight);\")\n",
    "        time.sleep(0.7)                                                \n",
    "        new_height = driver.execute_script(\"return document.body.scrollHeight\")\n",
    "        if new_height == last_height:                                                \n",
    "            break\n",
    "\n",
    "        last_height = new_height\n",
    "\n",
    "    #리뷰\n",
    "    try:\n",
    "        for k in range(1,int(rev)+1):\n",
    "            #리뷰\n",
    "            re = driver.find_element_by_xpath('//*[@id=\"root\"]/div[1]/div[2]/div[2]/main/section/div/div[2]/div[3]/div[3]/div['+str(k)+']/p')\n",
    "            \n",
    "            #닉네임\n",
    "            nn = driver.find_element_by_xpath('//*[@id=\"root\"]/div[1]/div[2]/div[2]/main/section/div/div[2]/div[3]//div[3]/div['+str(k)+']/div[1]/div[1]')\n",
    "            nnk = nn.text.split('(')[0]\n",
    "            \n",
    "            review.append([tit_t,re.text,nnk])\n",
    "            \n",
    "    except:\n",
    "        pass\n",
    "\n",
    "    print('끝')\n",
    "    cur +=1"
   ]
  },
  {
   "cell_type": "code",
   "execution_count": null,
   "metadata": {},
   "outputs": [],
   "source": [
    "result = pd.DataFrame({'제목' : title, '장르' : genre, '줄거리' : story, '제작정보' : info, '태그' : tag, '태그2':tag2,'성비':sex,'평점':rate, '평점수':people})\n",
    "result"
   ]
  },
  {
   "cell_type": "code",
   "execution_count": 317,
   "metadata": {},
   "outputs": [],
   "source": [
    "#크롤링 데이터 변수에 저장\n",
    "d166_200 = result.copy()\n",
    "i166_200 = image.copy()\n",
    "r166_200 = review.copy()"
   ]
  },
  {
   "cell_type": "code",
   "execution_count": 13,
   "metadata": {},
   "outputs": [],
   "source": [
    "d166_200.to_csv('166-200.csv',encoding='utf-8-sig')\n",
    "\n",
    "image_data = pd.DataFrame(i166_200)\n",
    "image_data.to_csv('166-200_image.csv',encoding='utf-8-sig')\n",
    "\n",
    "review_data = pd.DataFrame(r166_200)\n",
    "review_data.to_csv('101-166_review.csv',encoding='utf-8-sig')"
   ]
  },
  {
   "cell_type": "code",
   "execution_count": 139,
   "metadata": {},
   "outputs": [],
   "source": [
    "# 변수들 합치기\n",
    "data = pd.concat([d1801_1851,d1851_1901,d1901_1951,d1951_2001,d2001_2051,d2051_2079,d2079_2101,d2101_2151,d2151_2162],axis=0)\n",
    "image_data =i1801_1851+i1851_1901+i1901_1951+i1951_2001+i2001_2051+i2051_2079+i2079_2101+i2101_2151+i2151_2162 \n",
    "review_data =r1801_1851+r1851_1901+r1901_1951+r1951_2001+r2001_2051+r2051_2079+r2079_2101+r2101_2151+r2151_2162 \n",
    "\n",
    "#저장\n",
    "data.to_csv('1801-2162.csv',encoding='utf-8-sig')\n",
    "\n",
    "image_data = pd.DataFrame(image_data)\n",
    "image_data.to_csv('1801-2162_image.csv',encoding='utf-8-sig')\n",
    "\n",
    "review_data = pd.DataFrame(review_data)\n",
    "review_data.to_csv('1801-2162_review.csv',encoding='utf-8-sig')\n"
   ]
  },
  {
   "cell_type": "code",
   "execution_count": 64,
   "metadata": {},
   "outputs": [
    {
     "data": {
      "text/plain": [
       "('C:/Users/bounc/Desktop/애니 주분/실험.jpg',\n",
       " <http.client.HTTPMessage at 0x25163c87ee0>)"
      ]
     },
     "execution_count": 64,
     "metadata": {},
     "output_type": "execute_result"
    }
   ],
   "source": [
    "#이미지 저장\n",
    "import urllib.request\n",
    "urllib.request.urlretrieve(img_src,\"C:/Users/bounc/Desktop/애니 주분/\"+'실험'+'.jpg') #파일 url, 저장위치 및 파일이름"
   ]
  },
  {
   "cell_type": "markdown",
   "metadata": {},
   "source": [
    "### 데이터 전처리"
   ]
  },
  {
   "cell_type": "markdown",
   "metadata": {},
   "source": [
    "d1 천관사복 -> (자막)천관사복으로 추가  \n",
    "d2 기븐 2개 -> 하나 삭제  \n",
    "d4 일하는 세포2기 없음 -> 추가  \n",
    "d5'(무삭제) 소드 아트 온라인 앨리시제이션 War of Underworld part 2' -> 추가  \n",
    "d5 슬레이어즈 레볼루션 -> 슬레이어즈로 수정  \n",
    "d5 '한밤의 오컬트 공무원 OVA' -> 한밤의 오컬트 공무원 으로 수정  \n",
    "d6 달의 요정 세일러 문 SuperS -> 달의 요정 세일러 문로 수정  \n",
    "d6 라프텔 이름을 지어주세요 삭제  \n",
    "d6 포켓몬스터 XY 1기&2기 -> 포켓몬스터 XY & Z로 수정  \n",
    "d7 런닝맨 : 풀룰루 -> 런닝맨으로 수정  \n",
    "d7 (더빙)소나기-배리어프리 -> 소나기 로 수정\n",
    "\n",
    "d8 (더빙) 터닝메카드R -> (더빙)터닝메카드 수정  \n",
    "d8 토마스와 친구들 시즌11 -> 토마스와 친구들 시즌1 수정  \n",
    "d8 낙원추방 -> 낙원\n"
   ]
  },
  {
   "cell_type": "code",
   "execution_count": 95,
   "metadata": {},
   "outputs": [],
   "source": [
    "chungwansabok = result.copy()\n",
    "chungwansabok2 = image.copy()\n",
    "chungwansabok3 = review.copy()"
   ]
  },
  {
   "cell_type": "code",
   "execution_count": 163,
   "metadata": {},
   "outputs": [],
   "source": [
    "ilhaneunsepo2 =  result.copy()\n",
    "ilhaneunsepo2_image = image.copy()\n",
    "ilhaneunsepo2_review = review.copy()"
   ]
  },
  {
   "cell_type": "code",
   "execution_count": 213,
   "metadata": {},
   "outputs": [],
   "source": [
    "swordart2 = result.copy()\n",
    "swordart2_image = image.copy()\n",
    "swordart2_review = review.copy()"
   ]
  },
  {
   "cell_type": "code",
   "execution_count": 224,
   "metadata": {},
   "outputs": [],
   "source": [
    "slayers = result.copy()\n",
    "slayers_image = image.copy()\n",
    "slayers_review = review.copy()"
   ]
  },
  {
   "cell_type": "code",
   "execution_count": 232,
   "metadata": {},
   "outputs": [],
   "source": [
    "hanbam = result.copy()\n",
    "hanbam_image = image.copy()\n",
    "hanbam_review = review.copy()"
   ]
  },
  {
   "cell_type": "code",
   "execution_count": 264,
   "metadata": {},
   "outputs": [],
   "source": [
    "daleuiyojung = result.copy()\n",
    "daleuiyojung_image = image.copy()\n",
    "daleuiyojung_review = review.copy()"
   ]
  },
  {
   "cell_type": "code",
   "execution_count": 273,
   "metadata": {},
   "outputs": [],
   "source": [
    "pocketmonxyz = result.copy()\n",
    "pocketmonxyz_image = image.copy()\n",
    "pocketmonxyz_review = review.copy()"
   ]
  },
  {
   "cell_type": "code",
   "execution_count": 286,
   "metadata": {},
   "outputs": [],
   "source": [
    "runningman = result.copy()\n",
    "runningman_image = image.copy()\n",
    "runningman_review = review.copy()"
   ]
  },
  {
   "cell_type": "code",
   "execution_count": 295,
   "metadata": {},
   "outputs": [],
   "source": [
    "sonagi = result.copy()\n",
    "sonagi_image = image.copy()\n",
    "sonagi_review = review.copy()"
   ]
  },
  {
   "cell_type": "code",
   "execution_count": 69,
   "metadata": {},
   "outputs": [],
   "source": [
    "turning = result.copy()\n",
    "turning_image = image.copy()\n",
    "turning_review = review.copy()"
   ]
  },
  {
   "cell_type": "code",
   "execution_count": 61,
   "metadata": {},
   "outputs": [],
   "source": [
    "tomas = result.copy()\n",
    "tomas_image = image.copy()\n",
    "tomas_review = review.copy()"
   ]
  },
  {
   "cell_type": "code",
   "execution_count": 75,
   "metadata": {},
   "outputs": [],
   "source": [
    "nakwon = result.copy()\n",
    "nakwon_image = image.copy()\n",
    "nakwon_review = review.copy()"
   ]
  },
  {
   "cell_type": "code",
   "execution_count": 321,
   "metadata": {},
   "outputs": [],
   "source": [
    "data = pd.concat([chungwansabok,ilhaneunsepo2,swordart2,slayers,hanbam,daleuiyojung,pocketmonxyz,runningman,sonagi],axis=0)\n",
    "image_data =chungwansabok2 + ilhaneunsepo2_image + swordart2_image + slayers_image + hanbam_image + daleuiyojung_image + pocketmonxyz_image + runningman_image + sonagi_image\n",
    "review_data =chungwansabok3 + ilhaneunsepo2_review + swordart2_review + slayers_review + hanbam_review + daleuiyojung_review + pocketmonxyz_review + runningman_review + sonagi_review\n"
   ]
  },
  {
   "cell_type": "code",
   "execution_count": 322,
   "metadata": {},
   "outputs": [],
   "source": [
    "data.to_csv('추가.csv',encoding='utf-8-sig')\n",
    "\n",
    "image_data = pd.DataFrame(image_data)\n",
    "image_data.to_csv('추가_image.csv',encoding='utf-8-sig')\n",
    "\n",
    "review_data = pd.DataFrame(review_data)\n",
    "review_data.to_csv('추가_review.csv',encoding='utf-8-sig')"
   ]
  },
  {
   "cell_type": "code",
   "execution_count": 84,
   "metadata": {},
   "outputs": [],
   "source": [
    "d1 = pd.read_csv('0-100.csv')\n",
    "d2 = pd.read_csv('101-166.csv')\n",
    "d3 = pd.read_csv('166-200.csv')\n",
    "d4 = pd.read_csv('201-360.csv')\n",
    "d5 = pd.read_csv('361-720.csv')\n",
    "d6 = pd.read_csv('721-1081.csv')\n",
    "d7 = pd.read_csv('1081-1441.csv')\n",
    "d8 = pd.read_csv('1441-1802.csv')\n",
    "d9 = pd.read_csv('1801-2162.csv')"
   ]
  },
  {
   "cell_type": "code",
   "execution_count": 53,
   "metadata": {
    "scrolled": true
   },
   "outputs": [
    {
     "name": "stdout",
     "output_type": "stream",
     "text": [
      "335\n"
     ]
    }
   ],
   "source": [
    "#순서바꿔가면서 반복문 실행\n",
    "for i in range(310,len(d8['제목'])):\n",
    "    if d8['제목'][i] != name.iloc[i+1441+2,0]:\n",
    "        print(i)\n"
   ]
  },
  {
   "cell_type": "code",
   "execution_count": 91,
   "metadata": {},
   "outputs": [],
   "source": [
    "i1 = pd.read_csv('0-100_image.csv')\n",
    "i2 = pd.read_csv('101-166_image.csv')\n",
    "i3 = pd.read_csv('166-200_image.csv')\n",
    "i4 = pd.read_csv('201-360_image.csv')\n",
    "i5 = pd.read_csv('361-720_image.csv',encoding='cp949')\n",
    "i6 = pd.read_csv('721-1081_image.csv')\n",
    "i7 = pd.read_csv('1081-1441_image.csv')\n",
    "i8 = pd.read_csv('1441-1802_image.csv')\n",
    "i9 = pd.read_csv('1801-2162_image.csv')"
   ]
  },
  {
   "cell_type": "code",
   "execution_count": 96,
   "metadata": {},
   "outputs": [],
   "source": [
    "r1 = pd.read_csv('0-100_review.csv',encoding='cp949')\n",
    "r2 = pd.read_csv('101-166_review.csv')\n",
    "r3 = pd.read_csv('166-200_review.csv')\n",
    "r4 = pd.read_csv('201-360_review.csv',encoding='cp949')\n",
    "r5 = pd.read_csv('361-720_review.csv',encoding='cp949')\n",
    "r6 = pd.read_csv('721-1081_review.csv')\n",
    "r7 = pd.read_csv('1081-1441_review.csv')\n",
    "r8 = pd.read_csv('1441-1802_review.csv')\n",
    "r9 = pd.read_csv('1801-2162_review.csv')"
   ]
  },
  {
   "cell_type": "code",
   "execution_count": 184,
   "metadata": {},
   "outputs": [],
   "source": [
    "add = pd.read_csv('추가_review.csv')"
   ]
  },
  {
   "cell_type": "code",
   "execution_count": 280,
   "metadata": {},
   "outputs": [],
   "source": [
    "rw = pd.concat([r1,r2,r3,r4,r5,r6,r7,r8,rrrr,add],axis=0)"
   ]
  },
  {
   "cell_type": "code",
   "execution_count": 301,
   "metadata": {},
   "outputs": [
    {
     "data": {
      "text/html": [
       "<div>\n",
       "<style scoped>\n",
       "    .dataframe tbody tr th:only-of-type {\n",
       "        vertical-align: middle;\n",
       "    }\n",
       "\n",
       "    .dataframe tbody tr th {\n",
       "        vertical-align: top;\n",
       "    }\n",
       "\n",
       "    .dataframe thead th {\n",
       "        text-align: right;\n",
       "    }\n",
       "</style>\n",
       "<table border=\"1\" class=\"dataframe\">\n",
       "  <thead>\n",
       "    <tr style=\"text-align: right;\">\n",
       "      <th></th>\n",
       "      <th>0</th>\n",
       "      <th>1</th>\n",
       "      <th>2</th>\n",
       "    </tr>\n",
       "  </thead>\n",
       "  <tbody>\n",
       "    <tr>\n",
       "      <th>0</th>\n",
       "      <td>(무삭제) 귀멸의 칼날</td>\n",
       "      <td>사실 만화가 명작이라기 보단 유포터블이 레전드다 라는게 더 옳음\\r\\n사실 만화의 ...</td>\n",
       "      <td>ami1996</td>\n",
       "    </tr>\n",
       "    <tr>\n",
       "      <th>1</th>\n",
       "      <td>(무삭제) 귀멸의 칼날</td>\n",
       "      <td>이걸 굳이 잔인하게 만들어서 19세 걸어 놓은 이유랑 왤캐 인기가 많은지 모르겠네....</td>\n",
       "      <td>덕후1</td>\n",
       "    </tr>\n",
       "    <tr>\n",
       "      <th>2</th>\n",
       "      <td>(무삭제) 귀멸의 칼날</td>\n",
       "      <td>나도 귀칼 나쁘지않게 킬링용으로 봤는데 귀칼이 강연 진격을 넘는다는 이상한말만하니 ...</td>\n",
       "      <td>nnn7</td>\n",
       "    </tr>\n",
       "    <tr>\n",
       "      <th>3</th>\n",
       "      <td>(무삭제) 귀멸의 칼날</td>\n",
       "      <td>욕먹고 망해가는 작품을 애니가 살림. 연출, 작화, 사운드 모두 만점이지만 진부한 ...</td>\n",
       "      <td>잉여인간</td>\n",
       "    </tr>\n",
       "    <tr>\n",
       "      <th>4</th>\n",
       "      <td>(무삭제) 귀멸의 칼날</td>\n",
       "      <td>솔직히 애니는 진짜 잘 만들었다. \\r\\n작화도 좋고, 액션, 연출, 브금 타이밍까...</td>\n",
       "      <td>ghy3589</td>\n",
       "    </tr>\n",
       "    <tr>\n",
       "      <th>...</th>\n",
       "      <td>...</td>\n",
       "      <td>...</td>\n",
       "      <td>...</td>\n",
       "    </tr>\n",
       "    <tr>\n",
       "      <th>2152</th>\n",
       "      <td>소나기</td>\n",
       "      <td>이거  학교 에서 보여줬는데  눈물은 안났음</td>\n",
       "      <td>링님</td>\n",
       "    </tr>\n",
       "    <tr>\n",
       "      <th>2153</th>\n",
       "      <td>소나기</td>\n",
       "      <td>솔직히 연출이나 이어나가는 스토리가 그렇게 자연스러운 편이 아니라고 생각함... 근...</td>\n",
       "      <td>yongpal_9</td>\n",
       "    </tr>\n",
       "    <tr>\n",
       "      <th>2154</th>\n",
       "      <td>소나기</td>\n",
       "      <td>보고싶다</td>\n",
       "      <td>장하진</td>\n",
       "    </tr>\n",
       "    <tr>\n",
       "      <th>2155</th>\n",
       "      <td>소나기</td>\n",
       "      <td>일단 개인적인 생각인데 \\n설명이 좀 부족한 것 같음..갑작스러운 연출도 적지 않게...</td>\n",
       "      <td>10DUCK</td>\n",
       "    </tr>\n",
       "    <tr>\n",
       "      <th>2156</th>\n",
       "      <td>소나기</td>\n",
       "      <td>.....? 학교에서 본건데...? 이게여기있네?</td>\n",
       "      <td>laftel6270g</td>\n",
       "    </tr>\n",
       "  </tbody>\n",
       "</table>\n",
       "<p>170498 rows × 3 columns</p>\n",
       "</div>"
      ],
      "text/plain": [
       "                 0                                                  1  \\\n",
       "0     (무삭제) 귀멸의 칼날  사실 만화가 명작이라기 보단 유포터블이 레전드다 라는게 더 옳음\\r\\n사실 만화의 ...   \n",
       "1     (무삭제) 귀멸의 칼날  이걸 굳이 잔인하게 만들어서 19세 걸어 놓은 이유랑 왤캐 인기가 많은지 모르겠네....   \n",
       "2     (무삭제) 귀멸의 칼날  나도 귀칼 나쁘지않게 킬링용으로 봤는데 귀칼이 강연 진격을 넘는다는 이상한말만하니 ...   \n",
       "3     (무삭제) 귀멸의 칼날  욕먹고 망해가는 작품을 애니가 살림. 연출, 작화, 사운드 모두 만점이지만 진부한 ...   \n",
       "4     (무삭제) 귀멸의 칼날  솔직히 애니는 진짜 잘 만들었다. \\r\\n작화도 좋고, 액션, 연출, 브금 타이밍까...   \n",
       "...            ...                                                ...   \n",
       "2152           소나기                           이거  학교 에서 보여줬는데  눈물은 안났음   \n",
       "2153           소나기  솔직히 연출이나 이어나가는 스토리가 그렇게 자연스러운 편이 아니라고 생각함... 근...   \n",
       "2154           소나기                                               보고싶다   \n",
       "2155           소나기  일단 개인적인 생각인데 \\n설명이 좀 부족한 것 같음..갑작스러운 연출도 적지 않게...   \n",
       "2156           소나기                        .....? 학교에서 본건데...? 이게여기있네?   \n",
       "\n",
       "                2  \n",
       "0         ami1996  \n",
       "1             덕후1  \n",
       "2            nnn7  \n",
       "3            잉여인간  \n",
       "4         ghy3589  \n",
       "...           ...  \n",
       "2152           링님  \n",
       "2153    yongpal_9  \n",
       "2154          장하진  \n",
       "2155       10DUCK  \n",
       "2156  laftel6270g  \n",
       "\n",
       "[170498 rows x 3 columns]"
      ]
     },
     "execution_count": 301,
     "metadata": {},
     "output_type": "execute_result"
    }
   ],
   "source": [
    "rw"
   ]
  },
  {
   "cell_type": "code",
   "execution_count": 305,
   "metadata": {},
   "outputs": [
    {
     "name": "stderr",
     "output_type": "stream",
     "text": [
      "<ipython-input-305-b39ea8e88ade>:1: SettingWithCopyWarning: \n",
      "A value is trying to be set on a copy of a slice from a DataFrame\n",
      "\n",
      "See the caveats in the documentation: https://pandas.pydata.org/pandas-docs/stable/user_guide/indexing.html#returning-a-view-versus-a-copy\n",
      "  rw.drop_duplicates(subset=['0','1','2'],inplace=True)\n"
     ]
    }
   ],
   "source": [
    "rw.drop_duplicates(subset=['0','1','2'],inplace=True)"
   ]
  },
  {
   "cell_type": "code",
   "execution_count": 307,
   "metadata": {},
   "outputs": [],
   "source": [
    "rw.to_csv('최종리뷰.csv',encoding='utf-8-sig')"
   ]
  }
 ],
 "metadata": {
  "kernelspec": {
   "display_name": "Python 3",
   "language": "python",
   "name": "python3"
  },
  "language_info": {
   "codemirror_mode": {
    "name": "ipython",
    "version": 3
   },
   "file_extension": ".py",
   "mimetype": "text/x-python",
   "name": "python",
   "nbconvert_exporter": "python",
   "pygments_lexer": "ipython3",
   "version": "3.8.5"
  },
  "varInspector": {
   "cols": {
    "lenName": 16,
    "lenType": 16,
    "lenVar": 40
   },
   "kernels_config": {
    "python": {
     "delete_cmd_postfix": "",
     "delete_cmd_prefix": "del ",
     "library": "var_list.py",
     "varRefreshCmd": "print(var_dic_list())"
    },
    "r": {
     "delete_cmd_postfix": ") ",
     "delete_cmd_prefix": "rm(",
     "library": "var_list.r",
     "varRefreshCmd": "cat(var_dic_list()) "
    }
   },
   "types_to_exclude": [
    "module",
    "function",
    "builtin_function_or_method",
    "instance",
    "_Feature"
   ],
   "window_display": false
  }
 },
 "nbformat": 4,
 "nbformat_minor": 4
}

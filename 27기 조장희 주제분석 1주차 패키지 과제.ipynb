{
 "cells": [
  {
   "cell_type": "code",
   "execution_count": 2,
   "metadata": {},
   "outputs": [],
   "source": [
    "import numpy as np\n",
    "import pandas as pd"
   ]
  },
  {
   "cell_type": "markdown",
   "metadata": {},
   "source": [
    "### 1.1 데이터 불러오기"
   ]
  },
  {
   "cell_type": "code",
   "execution_count": 3,
   "metadata": {},
   "outputs": [],
   "source": [
    "dat=pd.read_csv('data.csv')"
   ]
  },
  {
   "cell_type": "markdown",
   "metadata": {},
   "source": [
    "### 1.2 데이터 확인"
   ]
  },
  {
   "cell_type": "code",
   "execution_count": 4,
   "metadata": {
    "scrolled": true
   },
   "outputs": [
    {
     "data": {
      "text/plain": [
       "<bound method DataFrame.info of          transaction_id  apartment_id   city     dong   jibun         apt  \\\n",
       "0                     0          7622  서울특별시      신교동    6-13    신현(101동)   \n",
       "1                     1          5399  서울특별시      필운동     142      사직파크맨션   \n",
       "2                     2          3578  서울특별시      필운동   174-1      두레엘리시안   \n",
       "3                     3         10957  서울특별시      내수동      95       파크팰리스   \n",
       "4                     4         10639  서울특별시      내수동  110-15        킹스매너   \n",
       "...                 ...           ...    ...      ...     ...         ...   \n",
       "1216548         1234823          9578  부산광역시  정관읍 용수리    1387  정관 동일스위트1차   \n",
       "1216549         1234824          9578  부산광역시  정관읍 용수리    1387  정관 동일스위트1차   \n",
       "1216550         1234825          9578  부산광역시  정관읍 용수리    1387  정관 동일스위트1차   \n",
       "1216551         1234826          9586  부산광역시  정관읍 용수리    1364   정관신도시롯데캐슬   \n",
       "1216552         1234827          9578  부산광역시  정관읍 용수리    1387  정관 동일스위트1차   \n",
       "\n",
       "                         addr_kr  exclusive_use_area  year_of_completion  \\\n",
       "0              신교동 6-13 신현(101동)             84.8200                2002   \n",
       "1                 필운동 142 사직파크맨션             99.1700                1973   \n",
       "2               필운동 174-1 두레엘리시안             84.7400                2007   \n",
       "3                   내수동 95 파크팰리스            146.3900                2003   \n",
       "4                내수동 110-15 킹스매너            194.4300                2004   \n",
       "...                          ...                 ...                 ...   \n",
       "1216548  정관읍 용수리 1387 정관 동일스위트1차             59.8245                2012   \n",
       "1216549  정관읍 용수리 1387 정관 동일스위트1차             84.9923                2012   \n",
       "1216550  정관읍 용수리 1387 정관 동일스위트1차             84.9923                2012   \n",
       "1216551   정관읍 용수리 1364 정관신도시롯데캐슬            101.7400                2008   \n",
       "1216552  정관읍 용수리 1387 정관 동일스위트1차             84.9923                2012   \n",
       "\n",
       "         transaction_year_month transaction_date  floor  \\\n",
       "0                        200801            21~31      2   \n",
       "1                        200801             1~10      6   \n",
       "2                        200801             1~10      6   \n",
       "3                        200801            11~20     15   \n",
       "4                        200801            21~31      3   \n",
       "...                         ...              ...    ...   \n",
       "1216548                  201711            11~20      3   \n",
       "1216549                  201711            21~30      7   \n",
       "1216550                  201711            21~30      9   \n",
       "1216551                  201711            21~30      7   \n",
       "1216552                  201711            21~30     16   \n",
       "\n",
       "         transaction_real_price  \n",
       "0                         37500  \n",
       "1                         20000  \n",
       "2                         38500  \n",
       "3                        118000  \n",
       "4                        120000  \n",
       "...                         ...  \n",
       "1216548                   22000  \n",
       "1216549                   30750  \n",
       "1216550                   29500  \n",
       "1216551                   26700  \n",
       "1216552                   28800  \n",
       "\n",
       "[1216553 rows x 13 columns]>"
      ]
     },
     "execution_count": 4,
     "metadata": {},
     "output_type": "execute_result"
    }
   ],
   "source": [
    "dat.info"
   ]
  },
  {
   "cell_type": "code",
   "execution_count": 5,
   "metadata": {
    "scrolled": true
   },
   "outputs": [
    {
     "data": {
      "text/html": [
       "<div>\n",
       "<style scoped>\n",
       "    .dataframe tbody tr th:only-of-type {\n",
       "        vertical-align: middle;\n",
       "    }\n",
       "\n",
       "    .dataframe tbody tr th {\n",
       "        vertical-align: top;\n",
       "    }\n",
       "\n",
       "    .dataframe thead th {\n",
       "        text-align: right;\n",
       "    }\n",
       "</style>\n",
       "<table border=\"1\" class=\"dataframe\">\n",
       "  <thead>\n",
       "    <tr style=\"text-align: right;\">\n",
       "      <th></th>\n",
       "      <th>transaction_id</th>\n",
       "      <th>apartment_id</th>\n",
       "      <th>city</th>\n",
       "      <th>dong</th>\n",
       "      <th>jibun</th>\n",
       "      <th>apt</th>\n",
       "      <th>addr_kr</th>\n",
       "      <th>exclusive_use_area</th>\n",
       "      <th>year_of_completion</th>\n",
       "      <th>transaction_year_month</th>\n",
       "      <th>transaction_date</th>\n",
       "      <th>floor</th>\n",
       "      <th>transaction_real_price</th>\n",
       "    </tr>\n",
       "  </thead>\n",
       "  <tbody>\n",
       "    <tr>\n",
       "      <th>0</th>\n",
       "      <td>False</td>\n",
       "      <td>False</td>\n",
       "      <td>False</td>\n",
       "      <td>False</td>\n",
       "      <td>False</td>\n",
       "      <td>False</td>\n",
       "      <td>False</td>\n",
       "      <td>False</td>\n",
       "      <td>False</td>\n",
       "      <td>False</td>\n",
       "      <td>False</td>\n",
       "      <td>False</td>\n",
       "      <td>False</td>\n",
       "    </tr>\n",
       "    <tr>\n",
       "      <th>1</th>\n",
       "      <td>False</td>\n",
       "      <td>False</td>\n",
       "      <td>False</td>\n",
       "      <td>False</td>\n",
       "      <td>False</td>\n",
       "      <td>False</td>\n",
       "      <td>False</td>\n",
       "      <td>False</td>\n",
       "      <td>False</td>\n",
       "      <td>False</td>\n",
       "      <td>False</td>\n",
       "      <td>False</td>\n",
       "      <td>False</td>\n",
       "    </tr>\n",
       "    <tr>\n",
       "      <th>2</th>\n",
       "      <td>False</td>\n",
       "      <td>False</td>\n",
       "      <td>False</td>\n",
       "      <td>False</td>\n",
       "      <td>False</td>\n",
       "      <td>False</td>\n",
       "      <td>False</td>\n",
       "      <td>False</td>\n",
       "      <td>False</td>\n",
       "      <td>False</td>\n",
       "      <td>False</td>\n",
       "      <td>False</td>\n",
       "      <td>False</td>\n",
       "    </tr>\n",
       "    <tr>\n",
       "      <th>3</th>\n",
       "      <td>False</td>\n",
       "      <td>False</td>\n",
       "      <td>False</td>\n",
       "      <td>False</td>\n",
       "      <td>False</td>\n",
       "      <td>False</td>\n",
       "      <td>False</td>\n",
       "      <td>False</td>\n",
       "      <td>False</td>\n",
       "      <td>False</td>\n",
       "      <td>False</td>\n",
       "      <td>False</td>\n",
       "      <td>False</td>\n",
       "    </tr>\n",
       "    <tr>\n",
       "      <th>4</th>\n",
       "      <td>False</td>\n",
       "      <td>False</td>\n",
       "      <td>False</td>\n",
       "      <td>False</td>\n",
       "      <td>False</td>\n",
       "      <td>False</td>\n",
       "      <td>False</td>\n",
       "      <td>False</td>\n",
       "      <td>False</td>\n",
       "      <td>False</td>\n",
       "      <td>False</td>\n",
       "      <td>False</td>\n",
       "      <td>False</td>\n",
       "    </tr>\n",
       "    <tr>\n",
       "      <th>...</th>\n",
       "      <td>...</td>\n",
       "      <td>...</td>\n",
       "      <td>...</td>\n",
       "      <td>...</td>\n",
       "      <td>...</td>\n",
       "      <td>...</td>\n",
       "      <td>...</td>\n",
       "      <td>...</td>\n",
       "      <td>...</td>\n",
       "      <td>...</td>\n",
       "      <td>...</td>\n",
       "      <td>...</td>\n",
       "      <td>...</td>\n",
       "    </tr>\n",
       "    <tr>\n",
       "      <th>1216548</th>\n",
       "      <td>False</td>\n",
       "      <td>False</td>\n",
       "      <td>False</td>\n",
       "      <td>False</td>\n",
       "      <td>False</td>\n",
       "      <td>False</td>\n",
       "      <td>False</td>\n",
       "      <td>False</td>\n",
       "      <td>False</td>\n",
       "      <td>False</td>\n",
       "      <td>False</td>\n",
       "      <td>False</td>\n",
       "      <td>False</td>\n",
       "    </tr>\n",
       "    <tr>\n",
       "      <th>1216549</th>\n",
       "      <td>False</td>\n",
       "      <td>False</td>\n",
       "      <td>False</td>\n",
       "      <td>False</td>\n",
       "      <td>False</td>\n",
       "      <td>False</td>\n",
       "      <td>False</td>\n",
       "      <td>False</td>\n",
       "      <td>False</td>\n",
       "      <td>False</td>\n",
       "      <td>False</td>\n",
       "      <td>False</td>\n",
       "      <td>False</td>\n",
       "    </tr>\n",
       "    <tr>\n",
       "      <th>1216550</th>\n",
       "      <td>False</td>\n",
       "      <td>False</td>\n",
       "      <td>False</td>\n",
       "      <td>False</td>\n",
       "      <td>False</td>\n",
       "      <td>False</td>\n",
       "      <td>False</td>\n",
       "      <td>False</td>\n",
       "      <td>False</td>\n",
       "      <td>False</td>\n",
       "      <td>False</td>\n",
       "      <td>False</td>\n",
       "      <td>False</td>\n",
       "    </tr>\n",
       "    <tr>\n",
       "      <th>1216551</th>\n",
       "      <td>False</td>\n",
       "      <td>False</td>\n",
       "      <td>False</td>\n",
       "      <td>False</td>\n",
       "      <td>False</td>\n",
       "      <td>False</td>\n",
       "      <td>False</td>\n",
       "      <td>False</td>\n",
       "      <td>False</td>\n",
       "      <td>False</td>\n",
       "      <td>False</td>\n",
       "      <td>False</td>\n",
       "      <td>False</td>\n",
       "    </tr>\n",
       "    <tr>\n",
       "      <th>1216552</th>\n",
       "      <td>False</td>\n",
       "      <td>False</td>\n",
       "      <td>False</td>\n",
       "      <td>False</td>\n",
       "      <td>False</td>\n",
       "      <td>False</td>\n",
       "      <td>False</td>\n",
       "      <td>False</td>\n",
       "      <td>False</td>\n",
       "      <td>False</td>\n",
       "      <td>False</td>\n",
       "      <td>False</td>\n",
       "      <td>False</td>\n",
       "    </tr>\n",
       "  </tbody>\n",
       "</table>\n",
       "<p>1216553 rows × 13 columns</p>\n",
       "</div>"
      ],
      "text/plain": [
       "         transaction_id  apartment_id   city   dong  jibun    apt  addr_kr  \\\n",
       "0                 False         False  False  False  False  False    False   \n",
       "1                 False         False  False  False  False  False    False   \n",
       "2                 False         False  False  False  False  False    False   \n",
       "3                 False         False  False  False  False  False    False   \n",
       "4                 False         False  False  False  False  False    False   \n",
       "...                 ...           ...    ...    ...    ...    ...      ...   \n",
       "1216548           False         False  False  False  False  False    False   \n",
       "1216549           False         False  False  False  False  False    False   \n",
       "1216550           False         False  False  False  False  False    False   \n",
       "1216551           False         False  False  False  False  False    False   \n",
       "1216552           False         False  False  False  False  False    False   \n",
       "\n",
       "         exclusive_use_area  year_of_completion  transaction_year_month  \\\n",
       "0                     False               False                   False   \n",
       "1                     False               False                   False   \n",
       "2                     False               False                   False   \n",
       "3                     False               False                   False   \n",
       "4                     False               False                   False   \n",
       "...                     ...                 ...                     ...   \n",
       "1216548               False               False                   False   \n",
       "1216549               False               False                   False   \n",
       "1216550               False               False                   False   \n",
       "1216551               False               False                   False   \n",
       "1216552               False               False                   False   \n",
       "\n",
       "         transaction_date  floor  transaction_real_price  \n",
       "0                   False  False                   False  \n",
       "1                   False  False                   False  \n",
       "2                   False  False                   False  \n",
       "3                   False  False                   False  \n",
       "4                   False  False                   False  \n",
       "...                   ...    ...                     ...  \n",
       "1216548             False  False                   False  \n",
       "1216549             False  False                   False  \n",
       "1216550             False  False                   False  \n",
       "1216551             False  False                   False  \n",
       "1216552             False  False                   False  \n",
       "\n",
       "[1216553 rows x 13 columns]"
      ]
     },
     "execution_count": 5,
     "metadata": {},
     "output_type": "execute_result"
    }
   ],
   "source": [
    "pd.isnull(dat)"
   ]
  },
  {
   "cell_type": "markdown",
   "metadata": {},
   "source": [
    "### 1.3 불필요한 행 삭제"
   ]
  },
  {
   "cell_type": "code",
   "execution_count": 6,
   "metadata": {
    "scrolled": true
   },
   "outputs": [],
   "source": [
    "dat = dat[dat.city==\"서울특별시\"]"
   ]
  },
  {
   "cell_type": "code",
   "execution_count": 7,
   "metadata": {},
   "outputs": [],
   "source": [
    "dat = dat.reset_index()"
   ]
  },
  {
   "cell_type": "markdown",
   "metadata": {},
   "source": [
    "### 1.4 변수 이름 바꾸기"
   ]
  },
  {
   "cell_type": "code",
   "execution_count": 8,
   "metadata": {},
   "outputs": [],
   "source": [
    "dat = dat.rename(columns={'transaction_real_price':'price'})"
   ]
  },
  {
   "cell_type": "markdown",
   "metadata": {},
   "source": [
    "### 1.5 불필요한 변수 삭제"
   ]
  },
  {
   "cell_type": "code",
   "execution_count": 9,
   "metadata": {
    "scrolled": true
   },
   "outputs": [],
   "source": [
    "dat = dat.drop(['transaction_id', 'apartment_id','jibun' ,'city'],axis=1)"
   ]
  },
  {
   "cell_type": "code",
   "execution_count": 10,
   "metadata": {
    "scrolled": true
   },
   "outputs": [
    {
     "data": {
      "text/plain": [
       "<bound method DataFrame.info of           index dong        apt            addr_kr  exclusive_use_area  \\\n",
       "0             0  신교동   신현(101동)  신교동 6-13 신현(101동)               84.82   \n",
       "1             1  필운동     사직파크맨션     필운동 142 사직파크맨션               99.17   \n",
       "2             2  필운동     두레엘리시안   필운동 174-1 두레엘리시안               84.74   \n",
       "3             3  내수동      파크팰리스       내수동 95 파크팰리스              146.39   \n",
       "4             4  내수동       킹스매너    내수동 110-15 킹스매너              194.43   \n",
       "...         ...  ...        ...                ...                 ...   \n",
       "742280  1184014  강일동  고덕리엔파크2단지  강일동 717 고덕리엔파크2단지               59.72   \n",
       "742281  1184015  강일동  강일리버파크3단지  강일동 674 강일리버파크3단지               59.87   \n",
       "742282  1184016  강일동  강일리버파크3단지  강일동 674 강일리버파크3단지               84.74   \n",
       "742283  1184017  강일동  강일리버파크1단지  강일동 665 강일리버파크1단지               84.74   \n",
       "742284  1184018  강일동  고덕리엔파크2단지  강일동 717 고덕리엔파크2단지               84.98   \n",
       "\n",
       "        year_of_completion  transaction_year_month transaction_date  floor  \\\n",
       "0                     2002                  200801            21~31      2   \n",
       "1                     1973                  200801             1~10      6   \n",
       "2                     2007                  200801             1~10      6   \n",
       "3                     2003                  200801            11~20     15   \n",
       "4                     2004                  200801            21~31      3   \n",
       "...                    ...                     ...              ...    ...   \n",
       "742280                2011                  201711            11~20      9   \n",
       "742281                2009                  201711            21~30     12   \n",
       "742282                2009                  201711            21~30      3   \n",
       "742283                2009                  201711            21~30      9   \n",
       "742284                2011                  201711            21~30      8   \n",
       "\n",
       "         price  \n",
       "0        37500  \n",
       "1        20000  \n",
       "2        38500  \n",
       "3       118000  \n",
       "4       120000  \n",
       "...        ...  \n",
       "742280   53000  \n",
       "742281   53000  \n",
       "742282   56500  \n",
       "742283   55500  \n",
       "742284   63750  \n",
       "\n",
       "[742285 rows x 10 columns]>"
      ]
     },
     "execution_count": 10,
     "metadata": {},
     "output_type": "execute_result"
    }
   ],
   "source": [
    "dat.info #열개수 줄었당"
   ]
  },
  {
   "cell_type": "markdown",
   "metadata": {},
   "source": [
    "### 1.6 연/월 뽑기"
   ]
  },
  {
   "cell_type": "code",
   "execution_count": 11,
   "metadata": {
    "scrolled": true
   },
   "outputs": [],
   "source": [
    "dat =dat.assign(transaction_year=dat['transaction_year_month'].astype(str).str[0:4].astype(int),\n",
    "                transaction_month=dat['transaction_year_month'].astype(str).str[4:6].astype(int))"
   ]
  },
  {
   "cell_type": "markdown",
   "metadata": {},
   "source": [
    "### 1.7 필요 연도 뽑기"
   ]
  },
  {
   "cell_type": "code",
   "execution_count": 12,
   "metadata": {
    "scrolled": true
   },
   "outputs": [],
   "source": [
    "dat = dat[dat.transaction_year >= 2012].reset_index() #거래일 기준 2012년 이후"
   ]
  },
  {
   "cell_type": "code",
   "execution_count": 13,
   "metadata": {},
   "outputs": [],
   "source": [
    "dat=dat.drop(['level_0','index'],axis=1)"
   ]
  },
  {
   "cell_type": "markdown",
   "metadata": {},
   "source": [
    "## 2. 데이터 시각화"
   ]
  },
  {
   "cell_type": "code",
   "execution_count": 14,
   "metadata": {},
   "outputs": [],
   "source": [
    "import matplotlib.pyplot as plt\n",
    "import seaborn as sns"
   ]
  },
  {
   "cell_type": "markdown",
   "metadata": {},
   "source": [
    "### 2.1 거래가격 분포 확인"
   ]
  },
  {
   "cell_type": "code",
   "execution_count": 15,
   "metadata": {},
   "outputs": [
    {
     "data": {
      "text/plain": [
       "Text(0.5, 0, 'Price')"
      ]
     },
     "execution_count": 15,
     "metadata": {},
     "output_type": "execute_result"
    },
    {
     "data": {
      "image/png": "[encoded data removed]",
      "text/plain": [
       "<Figure size 1440x720 with 2 Axes>"
      ]
     },
     "metadata": {
      "needs_background": "light"
     },
     "output_type": "display_data"
    }
   ],
   "source": [
    "firstplot = plt.figure(figsize=(20,10))\n",
    "axes1 = firstplot.add_subplot(1, 2, 1)\n",
    "axes2 = firstplot.add_subplot(1, 2, 2)\n",
    "\n",
    "axes1.boxplot(dat['price'],vert=False,labels=['']) \n",
    "axes1.set_title('Boxplot of Price',fontsize=30) \n",
    "axes1.set_xlabel('Price',fontsize=20)\n",
    "\n",
    "axes2.hist(dat['price'],bins=50) \n",
    "axes2.set_title('Histogram of Price',fontsize=30)\n",
    "axes2.set_xlabel('Price',fontsize=20)"
   ]
  },
  {
   "cell_type": "markdown",
   "metadata": {},
   "source": [
    "박스플롯,,, 끔찍하게 많은 이상치,,,  \n",
    "히스토그램을 보면 왼쪽으로 치우친 분포임을 알 수 있다.  \n",
    "집값이 너무 비싸면 안되니까,,"
   ]
  },
  {
   "cell_type": "code",
   "execution_count": 16,
   "metadata": {},
   "outputs": [
    {
     "data": {
      "text/plain": [
       "Text(0, 0.5, '')"
      ]
     },
     "execution_count": 16,
     "metadata": {},
     "output_type": "execute_result"
    },
    {
     "data": {
      "image/png": "[encoded data removed]",
      "text/plain": [
       "<Figure size 1296x720 with 2 Axes>"
      ]
     },
     "metadata": {},
     "output_type": "display_data"
    }
   ],
   "source": [
    "sns.set(font_scale = 1.5) \n",
    "fig,axs = plt.subplots(ncols = 2, figsize = (18, 10)) \n",
    "\n",
    "sns.boxplot(ax=axs[0], x='price',data=dat)\n",
    "axs[0].set_title('Boxplot of Price')\n",
    "axs[0].set_xlabel('Price',fontsize=20)\n",
    "\n",
    "sns.histplot(data=dat['price'],ax=axs[1],bins=50,kde=True)\n",
    "axs[1].set_title('Histogram of Price')\n",
    "axs[1].set_ylabel('',fontsize=20)"
   ]
  },
  {
   "cell_type": "markdown",
   "metadata": {},
   "source": [
    "### 2.2 거래연도 분포 확인 / 거래연도별 가격 분포 확인"
   ]
  },
  {
   "cell_type": "code",
   "execution_count": 17,
   "metadata": {},
   "outputs": [
    {
     "data": {
      "text/plain": [
       "Text(0, 0.5, 'Price')"
      ]
     },
     "execution_count": 17,
     "metadata": {},
     "output_type": "execute_result"
    },
    {
     "data": {
      "image/png": "[encoded data removed]",
      "text/plain": [
       "<Figure size 1296x720 with 2 Axes>"
      ]
     },
     "metadata": {},
     "output_type": "display_data"
    }
   ],
   "source": [
    "sns.set(font_scale = 1.5) \n",
    "fig,axs = plt.subplots(ncols = 2, figsize = (18, 10)) \n",
    "\n",
    "sns.countplot(data=dat,ax=axs[0],x='transaction_year')\n",
    "axs[0].set_title('The number of transactions per year',fontsize=30)\n",
    "axs[0].set_ylabel('Count')\n",
    "\n",
    "sns.barplot(data=dat,ax=axs[1],x='transaction_year',y='price')\n",
    "axs[1].set_title('Real transaction price per year',fontsize=30)\n",
    "axs[1].set_ylabel('Price')\n"
   ]
  },
  {
   "cell_type": "markdown",
   "metadata": {},
   "source": [
    "거래 횟수는 2015년까지는 증가하다가 2015년 이후에는 하락하는 추세로 접어들었다.  \n",
    "하지만 집값은 점점 증가하고 특히 2016년부터는 증가폭이 커지고 있다.  \n",
    "집값이 올라서 거래 횟수가 줄어든 것일까..?"
   ]
  },
  {
   "cell_type": "markdown",
   "metadata": {},
   "source": [
    "### 2.3  층 분포 확인 / 층별 가격 분포 확인"
   ]
  },
  {
   "cell_type": "code",
   "execution_count": 18,
   "metadata": {},
   "outputs": [
    {
     "data": {
      "text/plain": [
       "[]"
      ]
     },
     "execution_count": 18,
     "metadata": {},
     "output_type": "execute_result"
    },
    {
     "data": {
      "image/png": "[encoded data removed]",
      "text/plain": [
       "<Figure size 1296x720 with 2 Axes>"
      ]
     },
     "metadata": {},
     "output_type": "display_data"
    }
   ],
   "source": [
    "sns.set(font_scale = 1.5) \n",
    "fig,axs = plt.subplots(ncols = 2, figsize = (18, 10)) \n",
    "\n",
    "sns.countplot(data=dat,ax=axs[0],x='floor',color='green')\n",
    "axs[0].set_title('Transaction per Floor',fontsize=30)\n",
    "axs[0].set_ylabel('Count')\n",
    "axs[0].set_xticks([])\n",
    "\n",
    "sns.barplot(data=dat,ax=axs[1],x='floor',y='price',color='green',ci=None)\n",
    "axs[1].set_title('Average price per Floor',fontsize=30)\n",
    "axs[1].set_ylabel('Price')\n",
    "axs[1].set_xticks([])"
   ]
  },
  {
   "cell_type": "markdown",
   "metadata": {},
   "source": [
    "고층일수록 거래량은 줄어들지만 가격은 비싸지는 추세를 보인다.  \n",
    "펜트하우스..?"
   ]
  },
  {
   "cell_type": "markdown",
   "metadata": {},
   "source": [
    "### 2.4 완공연도 분포 확인 / 완공연도별 가격 분포 확인"
   ]
  },
  {
   "cell_type": "code",
   "execution_count": 19,
   "metadata": {},
   "outputs": [
    {
     "data": {
      "text/plain": [
       "[]"
      ]
     },
     "execution_count": 19,
     "metadata": {},
     "output_type": "execute_result"
    },
    {
     "data": {
      "image/png": "[encoded data removed]",
      "text/plain": [
       "<Figure size 1296x720 with 2 Axes>"
      ]
     },
     "metadata": {},
     "output_type": "display_data"
    }
   ],
   "source": [
    "sns.set(font_scale = 1.5) \n",
    "fig,axs = plt.subplots(ncols = 2, figsize = (18, 10)) \n",
    "\n",
    "sns.countplot(data=dat,ax=axs[0],x='year_of_completion',color='deepskyblue')\n",
    "axs[0].set_title('Transaction per Completion year',fontsize=30)\n",
    "axs[0].set_ylabel('Count')\n",
    "axs[0].set_xticks([])\n",
    "\n",
    "sns.barplot(data=dat,ax=axs[1],x='year_of_completion',y='price',color='deepskyblue',ci=None)\n",
    "axs[1].set_title('Average price per completion year',fontsize=30)\n",
    "axs[1].set_ylabel('Price')\n",
    "axs[1].set_xticks([])"
   ]
  },
  {
   "cell_type": "markdown",
   "metadata": {},
   "source": [
    "최근의 아파트가 더 많은 거래량을 갖는 추세를 보인다.  \n",
    "하지만, 가격은 옛날에 지어진 아파트가 최신 아파트 만큼 높은 것을 확인 할 수 있다.  \n",
    "이것은 재개발 보상을 노린 투기..?"
   ]
  },
  {
   "cell_type": "markdown",
   "metadata": {},
   "source": [
    "## 3. 파생변수 생성"
   ]
  },
  {
   "cell_type": "markdown",
   "metadata": {},
   "source": [
    "### 3.1 아파트 연차 변수 생성"
   ]
  },
  {
   "cell_type": "code",
   "execution_count": 20,
   "metadata": {
    "scrolled": false
   },
   "outputs": [
    {
     "data": {
      "text/plain": [
       "[]"
      ]
     },
     "execution_count": 20,
     "metadata": {},
     "output_type": "execute_result"
    },
    {
     "data": {
      "image/png": "[encoded data removed]",
      "text/plain": [
       "<Figure size 1296x720 with 2 Axes>"
      ]
     },
     "metadata": {},
     "output_type": "display_data"
    }
   ],
   "source": [
    "#dat에 until_trans 변수 추가\n",
    "dat = dat.assign(until_trans=dat['transaction_year'] - dat['year_of_completion']+1)\n",
    "\n",
    "sns.set(font_scale = 1.5) \n",
    "fig,axs = plt.subplots(ncols = 2, figsize = (18, 10)) \n",
    "\n",
    "sns.countplot(data=dat,ax=axs[0],x='until_trans',color='tomato')\n",
    "axs[0].set_title('Transaction per Year difference',fontsize=30)\n",
    "axs[0].set_ylabel('Count')\n",
    "axs[0].set_xticks([])\n",
    "\n",
    "sns.barplot(data=dat,ax=axs[1],x='until_trans',y='price',color='tomato')\n",
    "axs[1].set_title('Price per Year difference',fontsize=30)\n",
    "axs[1].set_ylabel('Price')\n",
    "axs[1].set_xticks([])"
   ]
  },
  {
   "cell_type": "markdown",
   "metadata": {},
   "source": [
    "### 3.2 거래 일 변수 변환"
   ]
  },
  {
   "cell_type": "code",
   "execution_count": 21,
   "metadata": {},
   "outputs": [],
   "source": [
    "dat = dat.assign(transaction_date=np.where(dat['transaction_date']=='1~10',0,np.where(dat['transaction_date']=='11~20',1,2)))"
   ]
  },
  {
   "cell_type": "markdown",
   "metadata": {},
   "source": [
    "### 3.3 월 변수와 10일 단위 변수 통합"
   ]
  },
  {
   "cell_type": "code",
   "execution_count": 22,
   "metadata": {
    "scrolled": true
   },
   "outputs": [],
   "source": [
    "dat = dat.assign(transaction_month_date=dat['transaction_month']*3 + dat['transaction_date'])"
   ]
  },
  {
   "cell_type": "markdown",
   "metadata": {},
   "source": [
    "### 3.4 연도별 주기성을 위한 파생변수 생성 (삼각변환)"
   ]
  },
  {
   "cell_type": "code",
   "execution_count": 23,
   "metadata": {
    "scrolled": true
   },
   "outputs": [
    {
     "data": {
      "text/html": [
       "<div>\n",
       "<style scoped>\n",
       "    .dataframe tbody tr th:only-of-type {\n",
       "        vertical-align: middle;\n",
       "    }\n",
       "\n",
       "    .dataframe tbody tr th {\n",
       "        vertical-align: top;\n",
       "    }\n",
       "\n",
       "    .dataframe thead th {\n",
       "        text-align: right;\n",
       "    }\n",
       "</style>\n",
       "<table border=\"1\" class=\"dataframe\">\n",
       "  <thead>\n",
       "    <tr style=\"text-align: right;\">\n",
       "      <th></th>\n",
       "      <th>dong</th>\n",
       "      <th>apt</th>\n",
       "      <th>addr_kr</th>\n",
       "      <th>exclusive_use_area</th>\n",
       "      <th>floor</th>\n",
       "      <th>price</th>\n",
       "      <th>transaction_year</th>\n",
       "      <th>until_trans</th>\n",
       "      <th>sin_date</th>\n",
       "      <th>cos_date</th>\n",
       "    </tr>\n",
       "  </thead>\n",
       "  <tbody>\n",
       "    <tr>\n",
       "      <th>0</th>\n",
       "      <td>사직동</td>\n",
       "      <td>광화문풍림스페이스본(9-0)</td>\n",
       "      <td>사직동 9 광화문풍림스페이스본(9-0)</td>\n",
       "      <td>95.88</td>\n",
       "      <td>6</td>\n",
       "      <td>70000</td>\n",
       "      <td>2012</td>\n",
       "      <td>5</td>\n",
       "      <td>0.475947</td>\n",
       "      <td>0.879474</td>\n",
       "    </tr>\n",
       "    <tr>\n",
       "      <th>1</th>\n",
       "      <td>사직동</td>\n",
       "      <td>광화문풍림스페이스본(9-0)</td>\n",
       "      <td>사직동 9 광화문풍림스페이스본(9-0)</td>\n",
       "      <td>108.55</td>\n",
       "      <td>11</td>\n",
       "      <td>100500</td>\n",
       "      <td>2012</td>\n",
       "      <td>5</td>\n",
       "      <td>0.614213</td>\n",
       "      <td>0.789141</td>\n",
       "    </tr>\n",
       "    <tr>\n",
       "      <th>2</th>\n",
       "      <td>사직동</td>\n",
       "      <td>광화문풍림스페이스본(9-0)</td>\n",
       "      <td>사직동 9 광화문풍림스페이스본(9-0)</td>\n",
       "      <td>94.51</td>\n",
       "      <td>1</td>\n",
       "      <td>65800</td>\n",
       "      <td>2012</td>\n",
       "      <td>5</td>\n",
       "      <td>0.614213</td>\n",
       "      <td>0.789141</td>\n",
       "    </tr>\n",
       "    <tr>\n",
       "      <th>3</th>\n",
       "      <td>수송동</td>\n",
       "      <td>로얄팰리스스위트</td>\n",
       "      <td>수송동 85 로얄팰리스스위트</td>\n",
       "      <td>42.87</td>\n",
       "      <td>8</td>\n",
       "      <td>30500</td>\n",
       "      <td>2012</td>\n",
       "      <td>8</td>\n",
       "      <td>0.475947</td>\n",
       "      <td>0.879474</td>\n",
       "    </tr>\n",
       "    <tr>\n",
       "      <th>4</th>\n",
       "      <td>수송동</td>\n",
       "      <td>로얄팰리스스위트</td>\n",
       "      <td>수송동 85 로얄팰리스스위트</td>\n",
       "      <td>39.67</td>\n",
       "      <td>15</td>\n",
       "      <td>30500</td>\n",
       "      <td>2012</td>\n",
       "      <td>8</td>\n",
       "      <td>0.735724</td>\n",
       "      <td>0.677282</td>\n",
       "    </tr>\n",
       "  </tbody>\n",
       "</table>\n",
       "</div>"
      ],
      "text/plain": [
       "  dong              apt                addr_kr  exclusive_use_area  floor  \\\n",
       "0  사직동  광화문풍림스페이스본(9-0)  사직동 9 광화문풍림스페이스본(9-0)               95.88      6   \n",
       "1  사직동  광화문풍림스페이스본(9-0)  사직동 9 광화문풍림스페이스본(9-0)              108.55     11   \n",
       "2  사직동  광화문풍림스페이스본(9-0)  사직동 9 광화문풍림스페이스본(9-0)               94.51      1   \n",
       "3  수송동         로얄팰리스스위트        수송동 85 로얄팰리스스위트               42.87      8   \n",
       "4  수송동         로얄팰리스스위트        수송동 85 로얄팰리스스위트               39.67     15   \n",
       "\n",
       "    price  transaction_year  until_trans  sin_date  cos_date  \n",
       "0   70000              2012            5  0.475947  0.879474  \n",
       "1  100500              2012            5  0.614213  0.789141  \n",
       "2   65800              2012            5  0.614213  0.789141  \n",
       "3   30500              2012            8  0.475947  0.879474  \n",
       "4   30500              2012            8  0.735724  0.677282  "
      ]
     },
     "execution_count": 23,
     "metadata": {},
     "output_type": "execute_result"
    }
   ],
   "source": [
    "import math\n",
    "\n",
    "#연도별 주기성 확인이 목표고, 1년당 transaction_month_date 변수값이 38까지 있으니까 주기가 38이 되게끔 38로 나누어 준다\n",
    "dat = dat.assign(sin_date=np.sin(2*math.pi*dat['transaction_month_date']/38))\n",
    "dat = dat.assign(cos_date=np.cos(2*math.pi*dat['transaction_month_date']/38))\n",
    "\n",
    "#변수 제거\n",
    "dat = dat.drop(['year_of_completion', 'transaction_year_month', 'transaction_date', 'transaction_month', 'transaction_month_date'],axis=1)\n",
    "dat.head()"
   ]
  },
  {
   "cell_type": "markdown",
   "metadata": {},
   "source": [
    "### 3.5 삼각변환을 통한 장점"
   ]
  },
  {
   "cell_type": "markdown",
   "metadata": {},
   "source": [
    "dummy 인코딩을 하면 가변수가 너무 많아져서 차원이 너무 높아진다. 차원의 저주,,  \n",
    "Label 인코딩을 하면 아무런 연관 없이 할당된 점수에 어떤 의미가 부여돼서 학습이 이루어 지는 문제가 발생할 수 있다.  \n",
    "하지만, 삼각변환을 하게 되면, 삼각함수의 주기성 덕분에 시계열을 띄는 데이터에 숨겨져 있던 패턴을 찾을 수 있게 된다."
   ]
  },
  {
   "cell_type": "markdown",
   "metadata": {},
   "source": [
    "## 4. 텍스트 데이터 다루기"
   ]
  },
  {
   "cell_type": "markdown",
   "metadata": {},
   "source": [
    "### 4.1 아파트 이름 한글부분만 뽑기"
   ]
  },
  {
   "cell_type": "code",
   "execution_count": 24,
   "metadata": {},
   "outputs": [
    {
     "data": {
      "text/plain": [
       "0    광화문풍림스페이스본\n",
       "1    광화문풍림스페이스본\n",
       "2    광화문풍림스페이스본\n",
       "3      로얄팰리스스위트\n",
       "4      로얄팰리스스위트\n",
       "Name: apt, dtype: object"
      ]
     },
     "execution_count": 24,
     "metadata": {},
     "output_type": "execute_result"
    }
   ],
   "source": [
    "apt = dat['apt']\n",
    "apt = apt.str.replace(pat=r'[^\\w]',repl=r'').str.replace('\\d+','').str.replace(pat='[a-zA-z]',repl=r'').str.replace(pat='Ⅲ',repl=r'')\n",
    "apt.head()"
   ]
  },
  {
   "cell_type": "markdown",
   "metadata": {},
   "source": [
    "### 4.2 아파트 이름 DTM"
   ]
  },
  {
   "cell_type": "code",
   "execution_count": 25,
   "metadata": {
    "scrolled": true
   },
   "outputs": [
    {
     "name": "stdout",
     "output_type": "stream",
     "text": [
      "  (0, 270)\t1\n",
      "  (1, 270)\t1\n",
      "  (2, 270)\t1\n",
      "  (3, 1039)\t1\n",
      "  (4, 1039)\t1\n",
      "  (5, 1039)\t1\n",
      "  (6, 1039)\t1\n",
      "  (7, 3772)\t1\n",
      "  (8, 3772)\t1\n",
      "  (9, 3772)\t1\n",
      "  (10, 2722)\t1\n",
      "  (11, 3171)\t1\n",
      "  (12, 3171)\t1\n",
      "  (13, 765)\t1\n",
      "  (14, 887)\t1\n",
      "  (15, 3171)\t1\n",
      "  (16, 3051)\t1\n",
      "  (17, 857)\t1\n",
      "  (18, 1025)\t1\n",
      "  (19, 1621)\t1\n",
      "  (21, 623)\t1\n",
      "  (22, 270)\t1\n",
      "  (23, 2032)\t1\n",
      "  (24, 3446)\t1\n",
      "  (25, 3346)\t1\n",
      "  :\t:\n",
      "  (513503, 3334)\t1\n",
      "  (513504, 3334)\t1\n",
      "  (513505, 3199)\t1\n",
      "  (513506, 62)\t1\n",
      "  (513507, 3196)\t1\n",
      "  (513508, 1621)\t1\n",
      "  (513509, 3643)\t1\n",
      "  (513510, 3643)\t1\n",
      "  (513511, 1621)\t1\n",
      "  (513512, 510)\t1\n",
      "  (513513, 2672)\t1\n",
      "  (513514, 508)\t1\n",
      "  (513515, 3199)\t1\n",
      "  (513516, 1621)\t1\n",
      "  (513517, 3643)\t1\n",
      "  (513518, 63)\t1\n",
      "  (513519, 97)\t1\n",
      "  (513520, 97)\t1\n",
      "  (513521, 97)\t1\n",
      "  (513522, 97)\t1\n",
      "  (513523, 195)\t1\n",
      "  (513524, 97)\t1\n",
      "  (513525, 97)\t1\n",
      "  (513526, 97)\t1\n",
      "  (513527, 195)\t1\n"
     ]
    }
   ],
   "source": [
    "from sklearn.feature_extraction.text import CountVectorizer\n",
    "\n",
    "cvz=CountVectorizer(min_df=5)\n",
    "print(cvz.fit_transform(apt))\n"
   ]
  },
  {
   "cell_type": "markdown",
   "metadata": {},
   "source": [
    "### 4.3 아파트 이름 tf-idf"
   ]
  },
  {
   "cell_type": "code",
   "execution_count": 26,
   "metadata": {
    "scrolled": true
   },
   "outputs": [
    {
     "name": "stdout",
     "output_type": "stream",
     "text": [
      "  (0, 270)\t1.0\n",
      "  (1, 270)\t1.0\n",
      "  (2, 270)\t1.0\n",
      "  (3, 1039)\t1.0\n",
      "  (4, 1039)\t1.0\n",
      "  (5, 1039)\t1.0\n",
      "  (6, 1039)\t1.0\n",
      "  (7, 3772)\t1.0\n",
      "  (8, 3772)\t1.0\n",
      "  (9, 3772)\t1.0\n",
      "  (10, 2722)\t1.0\n",
      "  (11, 3171)\t1.0\n",
      "  (12, 3171)\t1.0\n",
      "  (13, 765)\t1.0\n",
      "  (14, 887)\t1.0\n",
      "  (15, 3171)\t1.0\n",
      "  (16, 3051)\t1.0\n",
      "  (17, 857)\t1.0\n",
      "  (18, 1025)\t1.0\n",
      "  (19, 1621)\t1.0\n",
      "  (21, 623)\t1.0\n",
      "  (22, 270)\t1.0\n",
      "  (23, 2032)\t1.0\n",
      "  (24, 3446)\t1.0\n",
      "  (25, 3346)\t1.0\n",
      "  :\t:\n",
      "  (513503, 3334)\t1.0\n",
      "  (513504, 3334)\t1.0\n",
      "  (513505, 3199)\t1.0\n",
      "  (513506, 62)\t1.0\n",
      "  (513507, 3196)\t1.0\n",
      "  (513508, 1621)\t1.0\n",
      "  (513509, 3643)\t1.0\n",
      "  (513510, 3643)\t1.0\n",
      "  (513511, 1621)\t1.0\n",
      "  (513512, 510)\t1.0\n",
      "  (513513, 2672)\t1.0\n",
      "  (513514, 508)\t1.0\n",
      "  (513515, 3199)\t1.0\n",
      "  (513516, 1621)\t1.0\n",
      "  (513517, 3643)\t1.0\n",
      "  (513518, 63)\t1.0\n",
      "  (513519, 97)\t1.0\n",
      "  (513520, 97)\t1.0\n",
      "  (513521, 97)\t1.0\n",
      "  (513522, 97)\t1.0\n",
      "  (513523, 195)\t1.0\n",
      "  (513524, 97)\t1.0\n",
      "  (513525, 97)\t1.0\n",
      "  (513526, 97)\t1.0\n",
      "  (513527, 195)\t1.0\n"
     ]
    }
   ],
   "source": [
    "from sklearn.feature_extraction.text import TfidfVectorizer\n",
    "\n",
    "tvz=TfidfVectorizer(min_df=5)\n",
    "print(tvz.fit_transform(apt))"
   ]
  },
  {
   "cell_type": "markdown",
   "metadata": {},
   "source": [
    "### 4.4 질문"
   ]
  },
  {
   "cell_type": "markdown",
   "metadata": {},
   "source": [
    "가뜩이나 행렬 자체도 큰데 데이터 프레임에 붙여버리면 차원이 너무 커지는 문제가 발생할 수 있다. 적절한 인코딩을 통해 텍스트를 다루는 방법이 바람직할 것 같다."
   ]
  },
  {
   "cell_type": "markdown",
   "metadata": {},
   "source": [
    "### 4.5 질문"
   ]
  },
  {
   "cell_type": "markdown",
   "metadata": {},
   "source": [
    "word2vec이 한글에 최적화 되진 않아서 문제가 조금 생길 수도 있지만, 단어 간의 유사도를 잘 반영할 수 있는 방법이기 때문에 잘 작동할 것 같다."
   ]
  },
  {
   "cell_type": "markdown",
   "metadata": {},
   "source": [
    "## 5. 인코딩"
   ]
  },
  {
   "cell_type": "code",
   "execution_count": 27,
   "metadata": {
    "scrolled": true
   },
   "outputs": [],
   "source": [
    "dat = dat.drop(columns = ['addr_kr'])"
   ]
  },
  {
   "cell_type": "markdown",
   "metadata": {},
   "source": [
    "### 5.1 원핫 인코딩"
   ]
  },
  {
   "cell_type": "code",
   "execution_count": 28,
   "metadata": {
    "scrolled": false
   },
   "outputs": [
    {
     "data": {
      "text/plain": [
       "(513528, 329)"
      ]
     },
     "execution_count": 28,
     "metadata": {},
     "output_type": "execute_result"
    }
   ],
   "source": [
    "dong_onehot = pd.get_dummies(dat['dong'])\n",
    "dong_onehot.shape"
   ]
  },
  {
   "cell_type": "code",
   "execution_count": 29,
   "metadata": {},
   "outputs": [
    {
     "data": {
      "text/plain": [
       "(513528, 6765)"
      ]
     },
     "execution_count": 29,
     "metadata": {},
     "output_type": "execute_result"
    }
   ],
   "source": [
    "apt_onehot = pd.get_dummies(dat['apt']) \n",
    "apt_onehot.shape"
   ]
  },
  {
   "cell_type": "markdown",
   "metadata": {},
   "source": [
    "차원이 너무 커져서 바람직하지는 않은 인코딩이다."
   ]
  },
  {
   "cell_type": "markdown",
   "metadata": {},
   "source": [
    "### 5.2 레이블(label) 인코딩 - transaction_year"
   ]
  },
  {
   "cell_type": "code",
   "execution_count": 30,
   "metadata": {
    "scrolled": true
   },
   "outputs": [
    {
     "data": {
      "text/html": [
       "<div>\n",
       "<style scoped>\n",
       "    .dataframe tbody tr th:only-of-type {\n",
       "        vertical-align: middle;\n",
       "    }\n",
       "\n",
       "    .dataframe tbody tr th {\n",
       "        vertical-align: top;\n",
       "    }\n",
       "\n",
       "    .dataframe thead th {\n",
       "        text-align: right;\n",
       "    }\n",
       "</style>\n",
       "<table border=\"1\" class=\"dataframe\">\n",
       "  <thead>\n",
       "    <tr style=\"text-align: right;\">\n",
       "      <th></th>\n",
       "      <th>dong</th>\n",
       "      <th>apt</th>\n",
       "      <th>exclusive_use_area</th>\n",
       "      <th>floor</th>\n",
       "      <th>price</th>\n",
       "      <th>transaction_year</th>\n",
       "      <th>until_trans</th>\n",
       "      <th>sin_date</th>\n",
       "      <th>cos_date</th>\n",
       "    </tr>\n",
       "  </thead>\n",
       "  <tbody>\n",
       "    <tr>\n",
       "      <th>0</th>\n",
       "      <td>사직동</td>\n",
       "      <td>광화문풍림스페이스본(9-0)</td>\n",
       "      <td>95.88</td>\n",
       "      <td>6</td>\n",
       "      <td>70000</td>\n",
       "      <td>0</td>\n",
       "      <td>5</td>\n",
       "      <td>0.475947</td>\n",
       "      <td>0.879474</td>\n",
       "    </tr>\n",
       "    <tr>\n",
       "      <th>1</th>\n",
       "      <td>사직동</td>\n",
       "      <td>광화문풍림스페이스본(9-0)</td>\n",
       "      <td>108.55</td>\n",
       "      <td>11</td>\n",
       "      <td>100500</td>\n",
       "      <td>0</td>\n",
       "      <td>5</td>\n",
       "      <td>0.614213</td>\n",
       "      <td>0.789141</td>\n",
       "    </tr>\n",
       "    <tr>\n",
       "      <th>2</th>\n",
       "      <td>사직동</td>\n",
       "      <td>광화문풍림스페이스본(9-0)</td>\n",
       "      <td>94.51</td>\n",
       "      <td>1</td>\n",
       "      <td>65800</td>\n",
       "      <td>0</td>\n",
       "      <td>5</td>\n",
       "      <td>0.614213</td>\n",
       "      <td>0.789141</td>\n",
       "    </tr>\n",
       "    <tr>\n",
       "      <th>3</th>\n",
       "      <td>수송동</td>\n",
       "      <td>로얄팰리스스위트</td>\n",
       "      <td>42.87</td>\n",
       "      <td>8</td>\n",
       "      <td>30500</td>\n",
       "      <td>0</td>\n",
       "      <td>8</td>\n",
       "      <td>0.475947</td>\n",
       "      <td>0.879474</td>\n",
       "    </tr>\n",
       "    <tr>\n",
       "      <th>4</th>\n",
       "      <td>수송동</td>\n",
       "      <td>로얄팰리스스위트</td>\n",
       "      <td>39.67</td>\n",
       "      <td>15</td>\n",
       "      <td>30500</td>\n",
       "      <td>0</td>\n",
       "      <td>8</td>\n",
       "      <td>0.735724</td>\n",
       "      <td>0.677282</td>\n",
       "    </tr>\n",
       "  </tbody>\n",
       "</table>\n",
       "</div>"
      ],
      "text/plain": [
       "  dong              apt  exclusive_use_area  floor   price  transaction_year  \\\n",
       "0  사직동  광화문풍림스페이스본(9-0)               95.88      6   70000                 0   \n",
       "1  사직동  광화문풍림스페이스본(9-0)              108.55     11  100500                 0   \n",
       "2  사직동  광화문풍림스페이스본(9-0)               94.51      1   65800                 0   \n",
       "3  수송동         로얄팰리스스위트               42.87      8   30500                 0   \n",
       "4  수송동         로얄팰리스스위트               39.67     15   30500                 0   \n",
       "\n",
       "   until_trans  sin_date  cos_date  \n",
       "0            5  0.475947  0.879474  \n",
       "1            5  0.614213  0.789141  \n",
       "2            5  0.614213  0.789141  \n",
       "3            8  0.475947  0.879474  \n",
       "4            8  0.735724  0.677282  "
      ]
     },
     "execution_count": 30,
     "metadata": {},
     "output_type": "execute_result"
    }
   ],
   "source": [
    "from sklearn.preprocessing import LabelEncoder\n",
    "le=LabelEncoder()\n",
    "dat['transaction_year']=le.fit_transform(dat['transaction_year'])\n",
    "dat.head()"
   ]
  },
  {
   "cell_type": "markdown",
   "metadata": {},
   "source": [
    "연도가 증가할 수록 가격이 증가하는 추세를 보이는데, 이러면 부여한 레이블 간에 연관성이 존재한다고 학습될 수도 있다. "
   ]
  },
  {
   "cell_type": "markdown",
   "metadata": {},
   "source": [
    "### 5.3 레이블(label) 인코딩"
   ]
  },
  {
   "cell_type": "code",
   "execution_count": 31,
   "metadata": {},
   "outputs": [
    {
     "data": {
      "text/html": [
       "<div>\n",
       "<style scoped>\n",
       "    .dataframe tbody tr th:only-of-type {\n",
       "        vertical-align: middle;\n",
       "    }\n",
       "\n",
       "    .dataframe tbody tr th {\n",
       "        vertical-align: top;\n",
       "    }\n",
       "\n",
       "    .dataframe thead th {\n",
       "        text-align: right;\n",
       "    }\n",
       "</style>\n",
       "<table border=\"1\" class=\"dataframe\">\n",
       "  <thead>\n",
       "    <tr style=\"text-align: right;\">\n",
       "      <th></th>\n",
       "      <th>dong</th>\n",
       "      <th>apt</th>\n",
       "      <th>exclusive_use_area</th>\n",
       "      <th>floor</th>\n",
       "      <th>price</th>\n",
       "      <th>transaction_year</th>\n",
       "      <th>until_trans</th>\n",
       "      <th>sin_date</th>\n",
       "      <th>cos_date</th>\n",
       "    </tr>\n",
       "  </thead>\n",
       "  <tbody>\n",
       "    <tr>\n",
       "      <th>0</th>\n",
       "      <td>130</td>\n",
       "      <td>805</td>\n",
       "      <td>95.88</td>\n",
       "      <td>6</td>\n",
       "      <td>70000</td>\n",
       "      <td>0</td>\n",
       "      <td>5</td>\n",
       "      <td>0.475947</td>\n",
       "      <td>0.879474</td>\n",
       "    </tr>\n",
       "    <tr>\n",
       "      <th>1</th>\n",
       "      <td>130</td>\n",
       "      <td>805</td>\n",
       "      <td>108.55</td>\n",
       "      <td>11</td>\n",
       "      <td>100500</td>\n",
       "      <td>0</td>\n",
       "      <td>5</td>\n",
       "      <td>0.614213</td>\n",
       "      <td>0.789141</td>\n",
       "    </tr>\n",
       "    <tr>\n",
       "      <th>2</th>\n",
       "      <td>130</td>\n",
       "      <td>805</td>\n",
       "      <td>94.51</td>\n",
       "      <td>1</td>\n",
       "      <td>65800</td>\n",
       "      <td>0</td>\n",
       "      <td>5</td>\n",
       "      <td>0.614213</td>\n",
       "      <td>0.789141</td>\n",
       "    </tr>\n",
       "    <tr>\n",
       "      <th>3</th>\n",
       "      <td>164</td>\n",
       "      <td>2042</td>\n",
       "      <td>42.87</td>\n",
       "      <td>8</td>\n",
       "      <td>30500</td>\n",
       "      <td>0</td>\n",
       "      <td>8</td>\n",
       "      <td>0.475947</td>\n",
       "      <td>0.879474</td>\n",
       "    </tr>\n",
       "    <tr>\n",
       "      <th>4</th>\n",
       "      <td>164</td>\n",
       "      <td>2042</td>\n",
       "      <td>39.67</td>\n",
       "      <td>15</td>\n",
       "      <td>30500</td>\n",
       "      <td>0</td>\n",
       "      <td>8</td>\n",
       "      <td>0.735724</td>\n",
       "      <td>0.677282</td>\n",
       "    </tr>\n",
       "  </tbody>\n",
       "</table>\n",
       "</div>"
      ],
      "text/plain": [
       "   dong   apt  exclusive_use_area  floor   price  transaction_year  \\\n",
       "0   130   805               95.88      6   70000                 0   \n",
       "1   130   805              108.55     11  100500                 0   \n",
       "2   130   805               94.51      1   65800                 0   \n",
       "3   164  2042               42.87      8   30500                 0   \n",
       "4   164  2042               39.67     15   30500                 0   \n",
       "\n",
       "   until_trans  sin_date  cos_date  \n",
       "0            5  0.475947  0.879474  \n",
       "1            5  0.614213  0.789141  \n",
       "2            5  0.614213  0.789141  \n",
       "3            8  0.475947  0.879474  \n",
       "4            8  0.735724  0.677282  "
      ]
     },
     "execution_count": 31,
     "metadata": {},
     "output_type": "execute_result"
    }
   ],
   "source": [
    "from sklearn.preprocessing import LabelEncoder\n",
    "le=LabelEncoder()\n",
    "dat_label=dat\n",
    "dat_label['apt']=le.fit_transform(dat_label['apt'])\n",
    "dat_label['dong']=le.fit_transform(dat_label['dong'])\n",
    "dat_label.head()"
   ]
  },
  {
   "cell_type": "markdown",
   "metadata": {},
   "source": [
    "차원이 늘어나지 않는다는 점에서는 적절하다고 생각한다."
   ]
  },
  {
   "cell_type": "markdown",
   "metadata": {},
   "source": [
    "### 5.3 mean encoding"
   ]
  },
  {
   "cell_type": "code",
   "execution_count": 32,
   "metadata": {},
   "outputs": [
    {
     "data": {
      "text/html": [
       "<div>\n",
       "<style scoped>\n",
       "    .dataframe tbody tr th:only-of-type {\n",
       "        vertical-align: middle;\n",
       "    }\n",
       "\n",
       "    .dataframe tbody tr th {\n",
       "        vertical-align: top;\n",
       "    }\n",
       "\n",
       "    .dataframe thead th {\n",
       "        text-align: right;\n",
       "    }\n",
       "</style>\n",
       "<table border=\"1\" class=\"dataframe\">\n",
       "  <thead>\n",
       "    <tr style=\"text-align: right;\">\n",
       "      <th></th>\n",
       "      <th>dong</th>\n",
       "      <th>apt</th>\n",
       "      <th>exclusive_use_area</th>\n",
       "      <th>floor</th>\n",
       "      <th>price</th>\n",
       "      <th>transaction_year</th>\n",
       "      <th>until_trans</th>\n",
       "      <th>sin_date</th>\n",
       "      <th>cos_date</th>\n",
       "    </tr>\n",
       "  </thead>\n",
       "  <tbody>\n",
       "    <tr>\n",
       "      <th>0</th>\n",
       "      <td>130</td>\n",
       "      <td>91174.766355</td>\n",
       "      <td>95.88</td>\n",
       "      <td>6</td>\n",
       "      <td>70000</td>\n",
       "      <td>0</td>\n",
       "      <td>5</td>\n",
       "      <td>0.475947</td>\n",
       "      <td>0.879474</td>\n",
       "    </tr>\n",
       "    <tr>\n",
       "      <th>1</th>\n",
       "      <td>130</td>\n",
       "      <td>91174.766355</td>\n",
       "      <td>108.55</td>\n",
       "      <td>11</td>\n",
       "      <td>100500</td>\n",
       "      <td>0</td>\n",
       "      <td>5</td>\n",
       "      <td>0.614213</td>\n",
       "      <td>0.789141</td>\n",
       "    </tr>\n",
       "    <tr>\n",
       "      <th>2</th>\n",
       "      <td>130</td>\n",
       "      <td>91174.766355</td>\n",
       "      <td>94.51</td>\n",
       "      <td>1</td>\n",
       "      <td>65800</td>\n",
       "      <td>0</td>\n",
       "      <td>5</td>\n",
       "      <td>0.614213</td>\n",
       "      <td>0.789141</td>\n",
       "    </tr>\n",
       "    <tr>\n",
       "      <th>3</th>\n",
       "      <td>164</td>\n",
       "      <td>36609.649123</td>\n",
       "      <td>42.87</td>\n",
       "      <td>8</td>\n",
       "      <td>30500</td>\n",
       "      <td>0</td>\n",
       "      <td>8</td>\n",
       "      <td>0.475947</td>\n",
       "      <td>0.879474</td>\n",
       "    </tr>\n",
       "    <tr>\n",
       "      <th>4</th>\n",
       "      <td>164</td>\n",
       "      <td>36609.649123</td>\n",
       "      <td>39.67</td>\n",
       "      <td>15</td>\n",
       "      <td>30500</td>\n",
       "      <td>0</td>\n",
       "      <td>8</td>\n",
       "      <td>0.735724</td>\n",
       "      <td>0.677282</td>\n",
       "    </tr>\n",
       "  </tbody>\n",
       "</table>\n",
       "</div>"
      ],
      "text/plain": [
       "   dong           apt  exclusive_use_area  floor   price  transaction_year  \\\n",
       "0   130  91174.766355               95.88      6   70000                 0   \n",
       "1   130  91174.766355              108.55     11  100500                 0   \n",
       "2   130  91174.766355               94.51      1   65800                 0   \n",
       "3   164  36609.649123               42.87      8   30500                 0   \n",
       "4   164  36609.649123               39.67     15   30500                 0   \n",
       "\n",
       "   until_trans  sin_date  cos_date  \n",
       "0            5  0.475947  0.879474  \n",
       "1            5  0.614213  0.789141  \n",
       "2            5  0.614213  0.789141  \n",
       "3            8  0.475947  0.879474  \n",
       "4            8  0.735724  0.677282  "
      ]
     },
     "execution_count": 32,
     "metadata": {},
     "output_type": "execute_result"
    }
   ],
   "source": [
    "dat_mean = dat\n",
    "apt_mean=dat_mean.groupby('apt')['price'].mean()\n",
    "dat_mean['apt']=dat_mean['apt'].map(apt_mean)\n",
    "dat_mean.head()"
   ]
  },
  {
   "cell_type": "markdown",
   "metadata": {},
   "source": [
    "차원이 늘어나지 않는다는 장점이 있지만, 평균을 구할 때 반응변수를 사용하므로 Data leakage가 일어나기 때문에 오버피팅 될 가능성이 크다."
   ]
  }
 ],
 "metadata": {
  "kernelspec": {
   "display_name": "Python 3",
   "language": "python",
   "name": "python3"
  },
  "language_info": {
   "codemirror_mode": {
    "name": "ipython",
    "version": 3
   },
   "file_extension": ".py",
   "mimetype": "text/x-python",
   "name": "python",
   "nbconvert_exporter": "python",
   "pygments_lexer": "ipython3",
   "version": "3.8.5"
  }
 },
 "nbformat": 4,
 "nbformat_minor": 4
}

{
 "cells": [
  {
   "cell_type": "markdown",
   "metadata": {},
   "source": [
    "## 1.데이터 분할"
   ]
  },
  {
   "cell_type": "markdown",
   "metadata": {},
   "source": [
    "### 1.1 데이터 불러오기"
   ]
  },
  {
   "cell_type": "code",
   "execution_count": 2,
   "metadata": {},
   "outputs": [],
   "source": [
    "import pandas as pd \n",
    "import numpy as np"
   ]
  },
  {
   "cell_type": "code",
   "execution_count": 3,
   "metadata": {},
   "outputs": [],
   "source": [
    "train=pd.read_csv('train.csv')\n",
    "test=pd.read_csv('test.csv')"
   ]
  },
  {
   "cell_type": "markdown",
   "metadata": {},
   "source": [
    "### 1.2 단위 수정"
   ]
  },
  {
   "cell_type": "code",
   "execution_count": 5,
   "metadata": {
    "scrolled": false
   },
   "outputs": [],
   "source": [
    "train_x = train.drop('price',axis=1)\n",
    "train_y = train['price']"
   ]
  },
  {
   "cell_type": "markdown",
   "metadata": {},
   "source": [
    "### 1.3 validation set 분할 - 첫번째"
   ]
  },
  {
   "cell_type": "code",
   "execution_count": 6,
   "metadata": {},
   "outputs": [],
   "source": [
    "from sklearn.model_selection import train_test_split"
   ]
  },
  {
   "cell_type": "code",
   "execution_count": 7,
   "metadata": {
    "scrolled": true
   },
   "outputs": [
    {
     "data": {
      "text/plain": [
       "[         dong            apt  exclusive_use_area  floor   price  \\\n",
       " 314626    신림동         신림푸르지오             114.840     20   54500   \n",
       " 63804     면목동  한강훼미리(138-28)              84.750      7   34000   \n",
       " 294656    사당동          삼성래미안              84.967     11   47500   \n",
       " 215988    신정동       목동신시가지14              71.370      5   60000   \n",
       " 130116    상계동           현대4차              84.990     12   25500   \n",
       " ...       ...            ...                 ...    ...     ...   \n",
       " 40633     이문동        이문동웰츠타워             112.134     13   50958   \n",
       " 18548   성수동1가          LIG건영              73.912     19   53000   \n",
       " 265128    구로동          다원그린빌             114.840     11   47000   \n",
       " 347522    청담동    청담멤버스카운티10차             148.870      4  120000   \n",
       " 372224    잠실동           잠실엘스              84.800     16   93800   \n",
       " \n",
       "         transaction_year  until_trans      sin_date      cos_date  \n",
       " 314626                 2           10  6.123234e-16 -1.000000e+00  \n",
       " 63804                  3           12 -1.959435e-15  1.000000e+00  \n",
       " 294656                 0           10 -1.959435e-15  1.000000e+00  \n",
       " 215988                 4           29 -1.000000e+00 -2.449913e-15  \n",
       " 130116                 2           20 -1.000000e+00 -2.449913e-15  \n",
       " ...                  ...          ...           ...           ...  \n",
       " 40633                  0            5 -1.959435e-15  1.000000e+00  \n",
       " 18548                  1           12 -1.469576e-15  1.000000e+00  \n",
       " 265128                 4           18  1.102182e-15 -1.000000e+00  \n",
       " 347522                 1           10  1.000000e+00  5.510911e-16  \n",
       " 372224                 0            5  1.102182e-15 -1.000000e+00  \n",
       " \n",
       " [337731 rows x 9 columns],\n",
       "        dong            apt  exclusive_use_area  floor  price  \\\n",
       " 335936  서초동        래미안서초4차             133.140      4  82000   \n",
       " 306819  흑석동           한강현대             114.440     11  73500   \n",
       " 123582  상계동          청암2단지              49.770      7  19000   \n",
       " 264653  구로동             롯데             131.300      4  50000   \n",
       " 377176  가락동            시영2              56.170      2  84000   \n",
       " ...     ...            ...                 ...    ...    ...   \n",
       " 172492  불광동  북한산힐스테이트1차아파트              84.369      4  49700   \n",
       " 170467  증산동             덕원              59.990     10  29800   \n",
       " 145144  공릉동          삼익아파트              51.030     10  22600   \n",
       " 94000   미아동      에스케이북한산시티             114.850     12  39500   \n",
       " 411074   길동            SM빌             128.700      1  35000   \n",
       " \n",
       "         transaction_year  until_trans      sin_date      cos_date  \n",
       " 335936                 3           11 -7.347881e-16  1.000000e+00  \n",
       " 306819                 4           29  8.572528e-16 -1.000000e+00  \n",
       " 123582                 1           13 -1.000000e+00 -2.694842e-15  \n",
       " 264653                 4           18 -9.797174e-16  1.000000e+00  \n",
       " 377176                 1           32  1.000000e+00 -4.904777e-16  \n",
       " ...                  ...          ...           ...           ...  \n",
       " 172492                 4            8 -1.000000e+00 -3.674559e-15  \n",
       " 170467                 4           20  8.572528e-16 -1.000000e+00  \n",
       " 145144                 3           21  1.000000e+00 -6.189806e-19  \n",
       " 94000                  3           12  6.123234e-16 -1.000000e+00  \n",
       " 411074                 3           15  3.673940e-16 -1.000000e+00  \n",
       " \n",
       " [84433 rows x 9 columns]]"
      ]
     },
     "execution_count": 7,
     "metadata": {},
     "output_type": "execute_result"
    }
   ],
   "source": [
    "train_test_split(train,test_size=0.2)"
   ]
  },
  {
   "cell_type": "markdown",
   "metadata": {},
   "source": [
    "### 1.4 질문"
   ]
  },
  {
   "cell_type": "markdown",
   "metadata": {},
   "source": [
    "시계열 데이터다 보니 데이터가 랜덤한 순서로 섞여 버리면 데이터들의 관계가 깨져버려서 분석이 제대로 되지 않을 것 같다."
   ]
  },
  {
   "cell_type": "markdown",
   "metadata": {},
   "source": [
    "### 1.5 validation set 분할 - 두번째"
   ]
  },
  {
   "cell_type": "code",
   "execution_count": 8,
   "metadata": {
    "scrolled": true
   },
   "outputs": [],
   "source": [
    "val_x = train_x[train_x['transaction_year']==4]\n",
    "val_y = train[train['transaction_year']==4]\n",
    "val_y = val_y['price']\n",
    "\n",
    "train2_x = train_x[train_x['transaction_year']!=4]\n",
    "train2_y = train[train['transaction_year']!=4]\n",
    "train2_y = train2_y['price']"
   ]
  },
  {
   "cell_type": "markdown",
   "metadata": {},
   "source": [
    "### 1.5 캣부스트 인코딩 전에"
   ]
  },
  {
   "cell_type": "code",
   "execution_count": 8,
   "metadata": {
    "scrolled": true
   },
   "outputs": [
    {
     "name": "stdout",
     "output_type": "stream",
     "text": [
      "Requirement already satisfied: category_encoders in c:\\users\\bounc\\anaconda3\\lib\\site-packages (2.2.2)\n",
      "Requirement already satisfied: numpy>=1.14.0 in c:\\users\\bounc\\anaconda3\\lib\\site-packages (from category_encoders) (1.19.2)\n",
      "Requirement already satisfied: scikit-learn>=0.20.0 in c:\\users\\bounc\\anaconda3\\lib\\site-packages (from category_encoders) (0.23.2)\n",
      "Requirement already satisfied: scipy>=1.0.0 in c:\\users\\bounc\\anaconda3\\lib\\site-packages (from category_encoders) (1.5.2)\n",
      "Requirement already satisfied: statsmodels>=0.9.0 in c:\\users\\bounc\\anaconda3\\lib\\site-packages (from category_encoders) (0.12.0)\n",
      "Requirement already satisfied: patsy>=0.5.1 in c:\\users\\bounc\\anaconda3\\lib\\site-packages (from category_encoders) (0.5.1)\n",
      "Requirement already satisfied: pandas>=0.21.1 in c:\\users\\bounc\\anaconda3\\lib\\site-packages (from category_encoders) (1.1.3)\n",
      "Requirement already satisfied: threadpoolctl>=2.0.0 in c:\\users\\bounc\\anaconda3\\lib\\site-packages (from scikit-learn>=0.20.0->category_encoders) (2.1.0)\n",
      "Requirement already satisfied: joblib>=0.11 in c:\\users\\bounc\\anaconda3\\lib\\site-packages (from scikit-learn>=0.20.0->category_encoders) (0.17.0)\n",
      "Requirement already satisfied: six in c:\\users\\bounc\\anaconda3\\lib\\site-packages (from patsy>=0.5.1->category_encoders) (1.15.0)\n",
      "Requirement already satisfied: python-dateutil>=2.7.3 in c:\\users\\bounc\\anaconda3\\lib\\site-packages (from pandas>=0.21.1->category_encoders) (2.8.1)\n",
      "Requirement already satisfied: pytz>=2017.2 in c:\\users\\bounc\\anaconda3\\lib\\site-packages (from pandas>=0.21.1->category_encoders) (2020.1)\n"
     ]
    }
   ],
   "source": [
    "! pip install category_encoders"
   ]
  },
  {
   "cell_type": "code",
   "execution_count": 9,
   "metadata": {},
   "outputs": [],
   "source": [
    "from category_encoders.cat_boost import CatBoostEncoder"
   ]
  },
  {
   "cell_type": "markdown",
   "metadata": {},
   "source": [
    "### 1.6 캣부스트 인코딩"
   ]
  },
  {
   "cell_type": "code",
   "execution_count": 10,
   "metadata": {},
   "outputs": [
    {
     "name": "stderr",
     "output_type": "stream",
     "text": [
      "C:\\Users\\bounc\\anaconda3\\lib\\site-packages\\category_encoders\\utils.py:21: FutureWarning: is_categorical is deprecated and will be removed in a future version.  Use is_categorical_dtype instead\n",
      "  elif pd.api.types.is_categorical(cols):\n"
     ]
    },
    {
     "data": {
      "text/html": [
       "<div>\n",
       "<style scoped>\n",
       "    .dataframe tbody tr th:only-of-type {\n",
       "        vertical-align: middle;\n",
       "    }\n",
       "\n",
       "    .dataframe tbody tr th {\n",
       "        vertical-align: top;\n",
       "    }\n",
       "\n",
       "    .dataframe thead th {\n",
       "        text-align: right;\n",
       "    }\n",
       "</style>\n",
       "<table border=\"1\" class=\"dataframe\">\n",
       "  <thead>\n",
       "    <tr style=\"text-align: right;\">\n",
       "      <th></th>\n",
       "      <th>dong</th>\n",
       "      <th>apt</th>\n",
       "      <th>exclusive_use_area</th>\n",
       "      <th>floor</th>\n",
       "      <th>transaction_year</th>\n",
       "      <th>until_trans</th>\n",
       "      <th>sin_date</th>\n",
       "      <th>cos_date</th>\n",
       "    </tr>\n",
       "  </thead>\n",
       "  <tbody>\n",
       "    <tr>\n",
       "      <th>2451</th>\n",
       "      <td>89176.597368</td>\n",
       "      <td>86280.203194</td>\n",
       "      <td>107.91</td>\n",
       "      <td>14</td>\n",
       "      <td>4</td>\n",
       "      <td>9</td>\n",
       "      <td>-1.000000e+00</td>\n",
       "      <td>-1.836970e-16</td>\n",
       "    </tr>\n",
       "    <tr>\n",
       "      <th>2452</th>\n",
       "      <td>89176.597368</td>\n",
       "      <td>86280.203194</td>\n",
       "      <td>151.81</td>\n",
       "      <td>10</td>\n",
       "      <td>4</td>\n",
       "      <td>9</td>\n",
       "      <td>-1.000000e+00</td>\n",
       "      <td>-1.836970e-16</td>\n",
       "    </tr>\n",
       "    <tr>\n",
       "      <th>2453</th>\n",
       "      <td>89176.597368</td>\n",
       "      <td>86280.203194</td>\n",
       "      <td>94.51</td>\n",
       "      <td>2</td>\n",
       "      <td>4</td>\n",
       "      <td>9</td>\n",
       "      <td>-2.449294e-16</td>\n",
       "      <td>1.000000e+00</td>\n",
       "    </tr>\n",
       "    <tr>\n",
       "      <th>2454</th>\n",
       "      <td>89176.597368</td>\n",
       "      <td>86280.203194</td>\n",
       "      <td>94.28</td>\n",
       "      <td>12</td>\n",
       "      <td>4</td>\n",
       "      <td>9</td>\n",
       "      <td>-2.449294e-16</td>\n",
       "      <td>1.000000e+00</td>\n",
       "    </tr>\n",
       "    <tr>\n",
       "      <th>2455</th>\n",
       "      <td>103789.156533</td>\n",
       "      <td>107170.755379</td>\n",
       "      <td>145.96</td>\n",
       "      <td>13</td>\n",
       "      <td>4</td>\n",
       "      <td>13</td>\n",
       "      <td>-1.000000e+00</td>\n",
       "      <td>-1.836970e-16</td>\n",
       "    </tr>\n",
       "  </tbody>\n",
       "</table>\n",
       "</div>"
      ],
      "text/plain": [
       "               dong            apt  exclusive_use_area  floor  \\\n",
       "2451   89176.597368   86280.203194              107.91     14   \n",
       "2452   89176.597368   86280.203194              151.81     10   \n",
       "2453   89176.597368   86280.203194               94.51      2   \n",
       "2454   89176.597368   86280.203194               94.28     12   \n",
       "2455  103789.156533  107170.755379              145.96     13   \n",
       "\n",
       "      transaction_year  until_trans      sin_date      cos_date  \n",
       "2451                 4            9 -1.000000e+00 -1.836970e-16  \n",
       "2452                 4            9 -1.000000e+00 -1.836970e-16  \n",
       "2453                 4            9 -2.449294e-16  1.000000e+00  \n",
       "2454                 4            9 -2.449294e-16  1.000000e+00  \n",
       "2455                 4           13 -1.000000e+00 -1.836970e-16  "
      ]
     },
     "execution_count": 10,
     "metadata": {},
     "output_type": "execute_result"
    }
   ],
   "source": [
    "enc = CatBoostEncoder(cols=['dong','apt']).fit(train2_x,train2_y)\n",
    "val_cbe= enc.transform(val_x)\n",
    "val_cbe.head()"
   ]
  },
  {
   "cell_type": "markdown",
   "metadata": {},
   "source": [
    "## 2.릿지 회귀 (Ridge Regression)"
   ]
  },
  {
   "cell_type": "markdown",
   "metadata": {},
   "source": [
    "### 2.1 상관계수 플랏"
   ]
  },
  {
   "cell_type": "code",
   "execution_count": 12,
   "metadata": {},
   "outputs": [],
   "source": [
    "import matplotlib.pyplot as plt\n",
    "import seaborn as sns "
   ]
  },
  {
   "cell_type": "code",
   "execution_count": 13,
   "metadata": {},
   "outputs": [
    {
     "name": "stderr",
     "output_type": "stream",
     "text": [
      "C:\\Users\\bounc\\anaconda3\\lib\\site-packages\\category_encoders\\utils.py:21: FutureWarning: is_categorical is deprecated and will be removed in a future version.  Use is_categorical_dtype instead\n",
      "  elif pd.api.types.is_categorical(cols):\n"
     ]
    },
    {
     "data": {
      "text/plain": [
       "<AxesSubplot:>"
      ]
     },
     "execution_count": 13,
     "metadata": {},
     "output_type": "execute_result"
    },
    {
     "data": {
      "image/png": "[encoded data removed]",
      "text/plain": [
       "<Figure size 432x288 with 2 Axes>"
      ]
     },
     "metadata": {
      "needs_background": "light"
     },
     "output_type": "display_data"
    }
   ],
   "source": [
    "enc = CatBoostEncoder(cols=['dong','apt']).fit(train2_x,train2_y)\n",
    "train2_x_cbe= enc.transform(train2_x)\n",
    "a=pd.concat([train2_y,train2_x_cbe],axis=1)\n",
    "\n",
    "sns.heatmap(a.corr(),annot=True,cmap = 'RdYlBu_r')"
   ]
  },
  {
   "cell_type": "markdown",
   "metadata": {},
   "source": []
  },
  {
   "cell_type": "markdown",
   "metadata": {},
   "source": [
    "### 2.2 해석과 무관하게 일단 릿지 튜닝"
   ]
  },
  {
   "cell_type": "code",
   "execution_count": 15,
   "metadata": {},
   "outputs": [],
   "source": [
    "from sklearn.linear_model import Ridge\n",
    "from sklearn.metrics import mean_squared_error\n",
    "from math import sqrt"
   ]
  },
  {
   "cell_type": "code",
   "execution_count": 60,
   "metadata": {},
   "outputs": [
    {
     "name": "stdout",
     "output_type": "stream",
     "text": [
      "Alpha:1e-06, RMSE:15377.977659064007\n",
      "Alpha:1e-05, RMSE:15377.977659081682\n",
      "Alpha:0.0001, RMSE:15377.977659258442\n",
      "Alpha:0.001, RMSE:15377.977661026036\n",
      "Alpha:0.01, RMSE:15377.977678701962\n",
      "Alpha:0.1, RMSE:15377.97785546123\n"
     ]
    }
   ],
   "source": [
    "alphas = [0.00001, 0.0001, 0.001, 0.01, 0.1]\n",
    "\n",
    "k=[]\n",
    "\n",
    "for a in alphas:\n",
    "    model = Ridge(alpha=a).fit(train2_x_cbe,train2_y)\n",
    "    pred_y = model.predict(val_cbe)\n",
    "    rmse = sqrt(mean_squared_error(val_y,pred_y))\n",
    "    k.append(rmse)\n",
    "    print(\"Alpha:{}, RMSE:{}\" .format(a, rmse)) #alpha=0.00001일때 mse 최소"
   ]
  },
  {
   "cell_type": "markdown",
   "metadata": {},
   "source": [
    "### 2.3 튜닝결과 시각화"
   ]
  },
  {
   "cell_type": "code",
   "execution_count": 64,
   "metadata": {},
   "outputs": [
    {
     "data": {
      "text/plain": [
       "Text(0, 0.5, 'coefficient')"
      ]
     },
     "execution_count": 64,
     "metadata": {},
     "output_type": "execute_result"
    },
    {
     "data": {
      "image/png": "[encoded data removed]",
      "text/plain": [
       "<Figure size 432x288 with 1 Axes>"
      ]
     },
     "metadata": {
      "needs_background": "light"
     },
     "output_type": "display_data"
    }
   ],
   "source": [
    "import matplotlib.pyplot as plt\n",
    "\n",
    "ridge = Ridge(alpha=0.00001).fit(train2_x_cbe,train2_y)\n",
    "plt.plot(ridge.coef_,'v')\n",
    "plt.ylabel('coefficient')"
   ]
  },
  {
   "cell_type": "code",
   "execution_count": 63,
   "metadata": {},
   "outputs": [
    {
     "data": {
      "text/plain": [
       "array([3.04138142e-01, 6.24644960e-01, 3.51536564e+02, 1.77359082e+02,\n",
       "       1.58652214e+03, 8.83005691e+01, 3.10879617e+01, 1.56919947e+01])"
      ]
     },
     "execution_count": 63,
     "metadata": {},
     "output_type": "execute_result"
    }
   ],
   "source": [
    "ridge.coef_"
   ]
  },
  {
   "cell_type": "markdown",
   "metadata": {},
   "source": [
    "### 2.4 해석"
   ]
  },
  {
   "cell_type": "markdown",
   "metadata": {},
   "source": []
  },
  {
   "cell_type": "markdown",
   "metadata": {},
   "source": [
    "### 2.5 그냥 선형 모형으로!"
   ]
  },
  {
   "cell_type": "code",
   "execution_count": 35,
   "metadata": {},
   "outputs": [
    {
     "data": {
      "text/plain": [
       "15377.977659062773"
      ]
     },
     "execution_count": 35,
     "metadata": {},
     "output_type": "execute_result"
    }
   ],
   "source": [
    "from sklearn.linear_model import LinearRegression\n",
    "\n",
    "lm=LinearRegression().fit(train2_x_cbe,train2_y)\n",
    "pred_y=lm.predict(val_cbe)\n",
    "mse = mean_squared_error(val_y,pred_y)\n",
    "sqrt(mse) "
   ]
  },
  {
   "cell_type": "markdown",
   "metadata": {},
   "source": []
  },
  {
   "cell_type": "markdown",
   "metadata": {},
   "source": [
    "## 3.LightGBM"
   ]
  },
  {
   "cell_type": "code",
   "execution_count": 134,
   "metadata": {},
   "outputs": [
    {
     "name": "stdout",
     "output_type": "stream",
     "text": [
      "Collecting lightgbm\n",
      "  Downloading lightgbm-3.2.1-py3-none-win_amd64.whl (1.0 MB)\n",
      "Requirement already satisfied: numpy in c:\\users\\bounc\\anaconda3\\lib\\site-packages (from lightgbm) (1.19.2)\n",
      "Requirement already satisfied: scikit-learn!=0.22.0 in c:\\users\\bounc\\anaconda3\\lib\\site-packages (from lightgbm) (0.23.2)\n",
      "Requirement already satisfied: wheel in c:\\users\\bounc\\anaconda3\\lib\\site-packages (from lightgbm) (0.35.1)\n",
      "Requirement already satisfied: scipy in c:\\users\\bounc\\anaconda3\\lib\\site-packages (from lightgbm) (1.5.2)\n",
      "Requirement already satisfied: joblib>=0.11 in c:\\users\\bounc\\anaconda3\\lib\\site-packages (from scikit-learn!=0.22.0->lightgbm) (0.17.0)\n",
      "Requirement already satisfied: threadpoolctl>=2.0.0 in c:\\users\\bounc\\anaconda3\\lib\\site-packages (from scikit-learn!=0.22.0->lightgbm) (2.1.0)\n",
      "Installing collected packages: lightgbm\n",
      "Successfully installed lightgbm-3.2.1\n"
     ]
    }
   ],
   "source": [
    "! pip install lightgbm"
   ]
  },
  {
   "cell_type": "markdown",
   "metadata": {},
   "source": [
    "### 3.1 LightGBM 이해"
   ]
  },
  {
   "cell_type": "markdown",
   "metadata": {},
   "source": [
    "LightGBM은 leaf-wise로 트리가 수직적으로 확장된다. 따라서 균형 트리보다 예측오류를 최소화하고, 속도가 빠르다는 장점이 있다. 또한, 낮은 메모리 사용량, 병렬 및 GPU 학습 지원, 대규모 데이터 처리 가능이라는 장점이 있다. 하지만, 데이터셋이 작을 때는 오버피팅의 문제가 발생한다는 단점이 있다."
   ]
  },
  {
   "cell_type": "markdown",
   "metadata": {},
   "source": [
    "### 3.2 LGBM 튜닝"
   ]
  },
  {
   "cell_type": "code",
   "execution_count": 16,
   "metadata": {
    "collapsed": true
   },
   "outputs": [
    {
     "name": "stdout",
     "output_type": "stream",
     "text": [
      "[LightGBM] [Info] Total Bins 881\n",
      "[LightGBM] [Info] Number of data points in the train set: 312466, number of used features: 8\n",
      "[LightGBM] [Info] Start training from score 46056.618349\n",
      "[LightGBM] [Info] Total Bins 881\n",
      "[LightGBM] [Info] Number of data points in the train set: 312466, number of used features: 8\n",
      "[LightGBM] [Info] Start training from score 46056.618349\n",
      "[LightGBM] [Info] Total Bins 881\n",
      "[LightGBM] [Info] Number of data points in the train set: 312466, number of used features: 8\n",
      "[LightGBM] [Info] Start training from score 46056.618349\n",
      "[LightGBM] [Info] Total Bins 881\n",
      "[LightGBM] [Info] Number of data points in the train set: 312466, number of used features: 8\n",
      "[LightGBM] [Info] Start training from score 46056.618349\n",
      "[LightGBM] [Info] Total Bins 881\n",
      "[LightGBM] [Info] Number of data points in the train set: 312466, number of used features: 8\n",
      "[LightGBM] [Info] Start training from score 46056.618349\n",
      "[LightGBM] [Info] Total Bins 881\n",
      "[LightGBM] [Info] Number of data points in the train set: 312466, number of used features: 8\n",
      "[LightGBM] [Info] Start training from score 46056.618349\n",
      "[LightGBM] [Info] Total Bins 881\n",
      "[LightGBM] [Info] Number of data points in the train set: 312466, number of used features: 8\n",
      "[LightGBM] [Info] Start training from score 46056.618349\n"
     ]
    }
   ],
   "source": [
    "import lightgbm as lgb\n",
    "from lightgbm import LGBMModel,LGBMRegressor\n",
    "\n",
    "rate = [0.01, 0.05, 0.1, 0.3, 0.5, 0.7, 0.99]\n",
    "ds =lgb.Dataset(train2_x_cbe,label=train2_y)\n",
    "ds_t = lgb.Dataset(val_cbe,label=val_y)\n",
    "\n",
    "m = []\n",
    "\n",
    "for r in rate:\n",
    "    param ={'learning_rate':r,'force_col_wise':True}\n",
    "    model = lgb.train(param,train_set=ds,valid_sets=ds_t)\n",
    "    y_pred = model.predict(val_cbe)\n",
    "    rmse = sqrt(mean_squared_error(val_y,y_pred))\n",
    "    m.append(rmse)"
   ]
  },
  {
   "cell_type": "markdown",
   "metadata": {},
   "source": [
    "### 3.3 튜닝결과 시각화"
   ]
  },
  {
   "cell_type": "code",
   "execution_count": 17,
   "metadata": {},
   "outputs": [
    {
     "data": {
      "text/plain": [
       "[<matplotlib.lines.Line2D at 0x1175023f0d0>]"
      ]
     },
     "execution_count": 17,
     "metadata": {},
     "output_type": "execute_result"
    },
    {
     "data": {
      "image/png": "[encoded data removed]",
      "text/plain": [
       "<Figure size 432x288 with 1 Axes>"
      ]
     },
     "metadata": {
      "needs_background": "light"
     },
     "output_type": "display_data"
    }
   ],
   "source": [
    "plt.plot(rate,m)"
   ]
  },
  {
   "cell_type": "markdown",
   "metadata": {},
   "source": [
    "대략 0.5일때 rmse 최소!"
   ]
  },
  {
   "cell_type": "markdown",
   "metadata": {},
   "source": [
    "### 3.4 튜닝에 대하여 알아보자"
   ]
  },
  {
   "cell_type": "markdown",
   "metadata": {},
   "source": []
  },
  {
   "cell_type": "markdown",
   "metadata": {},
   "source": [
    "## 4. test set"
   ]
  },
  {
   "cell_type": "markdown",
   "metadata": {},
   "source": [
    "### 4.1 test set 불러오기"
   ]
  },
  {
   "cell_type": "code",
   "execution_count": 41,
   "metadata": {},
   "outputs": [],
   "source": [
    "test=pd.read_csv('test.csv')\n",
    "test_x = test.drop('price',axis=1)\n",
    "test_y = test['price']"
   ]
  },
  {
   "cell_type": "markdown",
   "metadata": {},
   "source": [
    "### 4.2 캣부스트 인코딩"
   ]
  },
  {
   "cell_type": "code",
   "execution_count": 42,
   "metadata": {},
   "outputs": [
    {
     "name": "stderr",
     "output_type": "stream",
     "text": [
      "C:\\Users\\bounc\\anaconda3\\lib\\site-packages\\category_encoders\\utils.py:21: FutureWarning: is_categorical is deprecated and will be removed in a future version.  Use is_categorical_dtype instead\n",
      "  elif pd.api.types.is_categorical(cols):\n"
     ]
    },
    {
     "data": {
      "text/html": [
       "<div>\n",
       "<style scoped>\n",
       "    .dataframe tbody tr th:only-of-type {\n",
       "        vertical-align: middle;\n",
       "    }\n",
       "\n",
       "    .dataframe tbody tr th {\n",
       "        vertical-align: top;\n",
       "    }\n",
       "\n",
       "    .dataframe thead th {\n",
       "        text-align: right;\n",
       "    }\n",
       "</style>\n",
       "<table border=\"1\" class=\"dataframe\">\n",
       "  <thead>\n",
       "    <tr style=\"text-align: right;\">\n",
       "      <th></th>\n",
       "      <th>dong</th>\n",
       "      <th>apt</th>\n",
       "      <th>exclusive_use_area</th>\n",
       "      <th>floor</th>\n",
       "      <th>transaction_year</th>\n",
       "      <th>until_trans</th>\n",
       "      <th>sin_date</th>\n",
       "      <th>cos_date</th>\n",
       "    </tr>\n",
       "  </thead>\n",
       "  <tbody>\n",
       "    <tr>\n",
       "      <th>0</th>\n",
       "      <td>91827.227742</td>\n",
       "      <td>89369.051084</td>\n",
       "      <td>70.80</td>\n",
       "      <td>1</td>\n",
       "      <td>5</td>\n",
       "      <td>10</td>\n",
       "      <td>-1.000000e+00</td>\n",
       "      <td>-1.836970e-16</td>\n",
       "    </tr>\n",
       "    <tr>\n",
       "      <th>1</th>\n",
       "      <td>91827.227742</td>\n",
       "      <td>89369.051084</td>\n",
       "      <td>94.51</td>\n",
       "      <td>8</td>\n",
       "      <td>5</td>\n",
       "      <td>10</td>\n",
       "      <td>-2.449294e-16</td>\n",
       "      <td>1.000000e+00</td>\n",
       "    </tr>\n",
       "    <tr>\n",
       "      <th>2</th>\n",
       "      <td>91827.227742</td>\n",
       "      <td>89369.051084</td>\n",
       "      <td>160.85</td>\n",
       "      <td>11</td>\n",
       "      <td>5</td>\n",
       "      <td>10</td>\n",
       "      <td>-2.449294e-16</td>\n",
       "      <td>1.000000e+00</td>\n",
       "    </tr>\n",
       "    <tr>\n",
       "      <th>3</th>\n",
       "      <td>91827.227742</td>\n",
       "      <td>89369.051084</td>\n",
       "      <td>94.51</td>\n",
       "      <td>6</td>\n",
       "      <td>5</td>\n",
       "      <td>10</td>\n",
       "      <td>1.000000e+00</td>\n",
       "      <td>3.061617e-16</td>\n",
       "    </tr>\n",
       "    <tr>\n",
       "      <th>4</th>\n",
       "      <td>91827.227742</td>\n",
       "      <td>89369.051084</td>\n",
       "      <td>136.40</td>\n",
       "      <td>3</td>\n",
       "      <td>5</td>\n",
       "      <td>10</td>\n",
       "      <td>1.000000e+00</td>\n",
       "      <td>3.061617e-16</td>\n",
       "    </tr>\n",
       "  </tbody>\n",
       "</table>\n",
       "</div>"
      ],
      "text/plain": [
       "           dong           apt  exclusive_use_area  floor  transaction_year  \\\n",
       "0  91827.227742  89369.051084               70.80      1                 5   \n",
       "1  91827.227742  89369.051084               94.51      8                 5   \n",
       "2  91827.227742  89369.051084              160.85     11                 5   \n",
       "3  91827.227742  89369.051084               94.51      6                 5   \n",
       "4  91827.227742  89369.051084              136.40      3                 5   \n",
       "\n",
       "   until_trans      sin_date      cos_date  \n",
       "0           10 -1.000000e+00 -1.836970e-16  \n",
       "1           10 -2.449294e-16  1.000000e+00  \n",
       "2           10 -2.449294e-16  1.000000e+00  \n",
       "3           10  1.000000e+00  3.061617e-16  \n",
       "4           10  1.000000e+00  3.061617e-16  "
      ]
     },
     "execution_count": 42,
     "metadata": {},
     "output_type": "execute_result"
    }
   ],
   "source": [
    "enc = CatBoostEncoder(cols=['dong','apt']).fit(train_x,train_y)\n",
    "test_cbe= enc.transform(test_x)\n",
    "test_cbe.head()"
   ]
  },
  {
   "cell_type": "markdown",
   "metadata": {},
   "source": [
    "### 4.3 최적의 파라미터 적합"
   ]
  },
  {
   "cell_type": "markdown",
   "metadata": {},
   "source": []
  },
  {
   "cell_type": "code",
   "execution_count": 43,
   "metadata": {},
   "outputs": [
    {
     "name": "stderr",
     "output_type": "stream",
     "text": [
      "C:\\Users\\bounc\\anaconda3\\lib\\site-packages\\category_encoders\\utils.py:21: FutureWarning: is_categorical is deprecated and will be removed in a future version.  Use is_categorical_dtype instead\n",
      "  elif pd.api.types.is_categorical(cols):\n"
     ]
    },
    {
     "name": "stdout",
     "output_type": "stream",
     "text": [
      "[LightGBM] [Info] Total Bins 888\n",
      "[LightGBM] [Info] Number of data points in the train set: 422164, number of used features: 8\n",
      "[LightGBM] [Info] Start training from score 48041.092876\n"
     ]
    }
   ],
   "source": [
    "# Linesar Regression\n",
    "enc = CatBoostEncoder(cols=['dong','apt']).fit(train_x,train_y)\n",
    "train_x_cbe= enc.transform(train_x)\n",
    "lm=LinearRegression().fit(train_x_cbe,train_y)\n",
    "\n",
    "\n",
    "# LGBM\n",
    "ds =lgb.Dataset(train_x_cbe,label=train_y)\n",
    "ds_t = lgb.Dataset(test_cbe,label=test_y)\n",
    "\n",
    "param ={'learning_rate':0.5,'force_col_wise':True}\n",
    "model = lgb.train(param,train_set=ds,valid_sets=ds_t)\n"
   ]
  },
  {
   "cell_type": "markdown",
   "metadata": {},
   "source": [
    "### 4.4 test set에 대해 평가"
   ]
  },
  {
   "cell_type": "code",
   "execution_count": 44,
   "metadata": {},
   "outputs": [
    {
     "name": "stdout",
     "output_type": "stream",
     "text": [
      "17721.880605156384 11909.118492076514\n"
     ]
    }
   ],
   "source": [
    "# Linesar Regression\n",
    "pred_y=lm.predict(test_cbe)\n",
    "rmse_linear = sqrt(mean_squared_error(test_y,pred_y))\n",
    "\n",
    "# LGBM\n",
    "y_pred = model.predict(test_cbe)\n",
    "rmse_LGBM = sqrt(mean_squared_error(test_y,y_pred))\n",
    "\n",
    "print(rmse_linear,rmse_LGBM)"
   ]
  },
  {
   "cell_type": "markdown",
   "metadata": {},
   "source": []
  }
 ],
 "metadata": {
  "kernelspec": {
   "display_name": "Python 3",
   "language": "python",
   "name": "python3"
  },
  "language_info": {
   "codemirror_mode": {
    "name": "ipython",
    "version": 3
   },
   "file_extension": ".py",
   "mimetype": "text/x-python",
   "name": "python",
   "nbconvert_exporter": "python",
   "pygments_lexer": "ipython3",
   "version": "3.8.5"
  },
  "varInspector": {
   "cols": {
    "lenName": 16,
    "lenType": 16,
    "lenVar": 40
   },
   "kernels_config": {
    "python": {
     "delete_cmd_postfix": "",
     "delete_cmd_prefix": "del ",
     "library": "var_list.py",
     "varRefreshCmd": "print(var_dic_list())"
    },
    "r": {
     "delete_cmd_postfix": ") ",
     "delete_cmd_prefix": "rm(",
     "library": "var_list.r",
     "varRefreshCmd": "cat(var_dic_list()) "
    }
   },
   "types_to_exclude": [
    "module",
    "function",
    "builtin_function_or_method",
    "instance",
    "_Feature"
   ],
   "window_display": false
  }
 },
 "nbformat": 4,
 "nbformat_minor": 4
}
